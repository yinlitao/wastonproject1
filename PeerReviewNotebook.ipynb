{
    "cells": [
        {
            "cell_type": "markdown",
            "metadata": {
                "collapsed": true
            },
            "source": "<H1>My Jupyter Notebook on IBM Watson Studio</H1>"
        },
        {
            "cell_type": "markdown",
            "metadata": {},
            "source": "<b>Litao Yin</b> <br/>\nData Scientist"
        },
        {
            "cell_type": "markdown",
            "metadata": {},
            "source": "<i>I am interested in data scicence bacause it may can help me recover my lost from stock market, hahaha...</i>"
        },
        {
            "cell_type": "markdown",
            "metadata": {},
            "source": "<h3>I am going to write a piece of code to add two numbers and return the sum</h3>"
        },
        {
            "cell_type": "code",
            "execution_count": 3,
            "metadata": {},
            "outputs": [
                {
                    "name": "stdout",
                    "output_type": "stream",
                    "text": "9\n"
                }
            ],
            "source": "def add(a, b):\n    return a+ b\nv = add(3, 6)\nprint (v)"
        },
        {
            "cell_type": "markdown",
            "metadata": {},
            "source": "Breakfast menu\n<hr>\n<ul>\n  <li>Coffee</li>\n  <li>Tea</li>\n  <li>Milk</li>\n </ul>\n<ol>\n  <li>Bread</li>\n  <li>Wallfle</li>\n  <li>Mufin</li>\n</ol>\n<>"
        },
        {
            "cell_type": "code",
            "execution_count": null,
            "metadata": {},
            "outputs": [],
            "source": ""
        }
    ],
    "metadata": {
        "kernelspec": {
            "display_name": "Python 3.9",
            "language": "python",
            "name": "python3"
        },
        "language_info": {
            "codemirror_mode": {
                "name": "ipython",
                "version": 3
            },
            "file_extension": ".py",
            "mimetype": "text/x-python",
            "name": "python",
            "nbconvert_exporter": "python",
            "pygments_lexer": "ipython3",
            "version": "3.9.12"
        }
    },
    "nbformat": 4,
    "nbformat_minor": 1
}