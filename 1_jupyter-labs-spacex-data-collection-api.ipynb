{
    "cells": [
        {
            "metadata": {},
            "cell_type": "markdown",
            "source": "<p style=\"text-align:center\">\n    <a href=\"https://skills.network/?utm_medium=Exinfluencer&utm_source=Exinfluencer&utm_content=000026UJ&utm_term=10006555&utm_id=NA-SkillsNetwork-Channel-SkillsNetworkCoursesIBMDS0321ENSkillsNetwork26802033-2022-01-01\" target=\"_blank\">\n    <img src=\"https://cf-courses-data.s3.us.cloud-object-storage.appdomain.cloud/assets/logos/SN_web_lightmode.png\" width=\"200\" alt=\"Skills Network Logo\"  />\n    </a>\n</p>\n"
        },
        {
            "metadata": {},
            "cell_type": "markdown",
            "source": "# **SpaceX  Falcon 9 first stage Landing Prediction**\n"
        },
        {
            "metadata": {},
            "cell_type": "markdown",
            "source": "# Lab 1: Collecting the data\n"
        },
        {
            "metadata": {},
            "cell_type": "markdown",
            "source": "Estimated time needed: **45** minutes\n"
        },
        {
            "metadata": {},
            "cell_type": "markdown",
            "source": "In this capstone, we will predict if the Falcon 9 first stage will land successfully. SpaceX advertises Falcon 9 rocket launches on its website with a cost of 62 million dollars; other providers cost upward of 165 million dollars each, much of the savings is because SpaceX can reuse the first stage. Therefore if we can determine if the first stage will land, we can determine the cost of a launch. This information can be used if an alternate company wants to bid against SpaceX for a rocket launch. In this lab, you will collect and make sure the data is in the correct format from an API. The following is an example of a successful and launch.\n"
        },
        {
            "metadata": {},
            "cell_type": "markdown",
            "source": "![](https://cf-courses-data.s3.us.cloud-object-storage.appdomain.cloud/IBMDeveloperSkillsNetwork-DS0701EN-SkillsNetwork/lab_v2/images/landing\\_1.gif)\n"
        },
        {
            "metadata": {},
            "cell_type": "markdown",
            "source": "Several examples of an unsuccessful landing are shown here:\n"
        },
        {
            "metadata": {},
            "cell_type": "markdown",
            "source": "![](https://cf-courses-data.s3.us.cloud-object-storage.appdomain.cloud/IBMDeveloperSkillsNetwork-DS0701EN-SkillsNetwork/lab_v2/images/crash.gif)\n"
        },
        {
            "metadata": {},
            "cell_type": "markdown",
            "source": "Most unsuccessful landings are planned. Space X performs a controlled landing in the oceans.\n"
        },
        {
            "metadata": {},
            "cell_type": "markdown",
            "source": "## Objectives\n"
        },
        {
            "metadata": {},
            "cell_type": "markdown",
            "source": "In this lab, you will make a get request to the SpaceX API. You will also do some basic data wrangling and formating.\n\n*   Request to the SpaceX API\n*   Clean the requested data\n"
        },
        {
            "metadata": {},
            "cell_type": "markdown",
            "source": "***\n"
        },
        {
            "metadata": {},
            "cell_type": "markdown",
            "source": "## Import Libraries and Define Auxiliary Functions\n"
        },
        {
            "metadata": {},
            "cell_type": "markdown",
            "source": "We will import the following libraries into the lab\n"
        },
        {
            "metadata": {},
            "cell_type": "code",
            "source": "# Requests allows us to make HTTP requests which we will use to get data from an API\nimport requests\n# Pandas is a software library written for the Python programming language for data manipulation and analysis.\nimport pandas as pd\n# NumPy is a library for the Python programming language, adding support for large, multi-dimensional arrays and matrices, along with a large collection of high-level mathematical functions to operate on these arrays\nimport numpy as np\n# Datetime is a library that allows us to represent dates\nimport datetime\n\n# Setting this option will print all collumns of a dataframe\npd.set_option('display.max_columns', None)\n# Setting this option will print all of the data in a feature\npd.set_option('display.max_colwidth', None)",
            "execution_count": 1,
            "outputs": []
        },
        {
            "metadata": {},
            "cell_type": "markdown",
            "source": "Below we will define a series of helper functions that will help us use the API to extract information using identification numbers in the launch data.\n\nFrom the <code>rocket</code> column we would like to learn the booster name.\n"
        },
        {
            "metadata": {},
            "cell_type": "code",
            "source": "# Takes the dataset and uses the rocket column to call the API and append the data to the list\ndef getBoosterVersion(data):\n    for x in data['rocket']:\n        response = requests.get(\"https://api.spacexdata.com/v4/rockets/\"+str(x)).json()\n        BoosterVersion.append(response['name'])",
            "execution_count": 2,
            "outputs": []
        },
        {
            "metadata": {},
            "cell_type": "markdown",
            "source": "From the <code>launchpad</code> we would like to know the name of the launch site being used, the logitude, and the latitude.\n"
        },
        {
            "metadata": {},
            "cell_type": "code",
            "source": "# Takes the dataset and uses the launchpad column to call the API and append the data to the list\ndef getLaunchSite(data):\n    for x in data['launchpad']:\n        response = requests.get(\"https://api.spacexdata.com/v4/launchpads/\"+str(x)).json()\n        Longitude.append(response['longitude'])\n        Latitude.append(response['latitude'])\n        LaunchSite.append(response['name'])",
            "execution_count": 3,
            "outputs": []
        },
        {
            "metadata": {},
            "cell_type": "markdown",
            "source": "From the <code>payload</code> we would like to learn the mass of the payload and the orbit that it is going to.\n"
        },
        {
            "metadata": {},
            "cell_type": "code",
            "source": "# Takes the dataset and uses the payloads column to call the API and append the data to the lists\ndef getPayloadData(data):\n    for load in data['payloads']:\n        response = requests.get(\"https://api.spacexdata.com/v4/payloads/\"+load).json()\n        PayloadMass.append(response['mass_kg'])\n        Orbit.append(response['orbit'])",
            "execution_count": 4,
            "outputs": []
        },
        {
            "metadata": {},
            "cell_type": "markdown",
            "source": "From <code>cores</code> we would like to learn the outcome of the landing, the type of the landing, number of flights with that core, whether gridfins were used, wheter the core is reused, wheter legs were used, the landing pad used, the block of the core which is a number used to seperate version of cores, the number of times this specific core has been reused, and the serial of the core.\n"
        },
        {
            "metadata": {},
            "cell_type": "code",
            "source": "# Takes the dataset and uses the cores column to call the API and append the data to the lists\ndef getCoreData(data):\n    for core in data['cores']:\n            if core['core'] != None:\n                response = requests.get(\"https://api.spacexdata.com/v4/cores/\"+core['core']).json()\n                Block.append(response['block'])\n                ReusedCount.append(response['reuse_count'])\n                Serial.append(response['serial'])\n            else:\n                Block.append(None)\n                ReusedCount.append(None)\n                Serial.append(None)\n            Outcome.append(str(core['landing_success'])+' '+str(core['landing_type']))\n            Flights.append(core['flight'])\n            GridFins.append(core['gridfins'])\n            Reused.append(core['reused'])\n            Legs.append(core['legs'])\n            LandingPad.append(core['landpad'])",
            "execution_count": 5,
            "outputs": []
        },
        {
            "metadata": {},
            "cell_type": "markdown",
            "source": "Now let's start requesting rocket launch data from SpaceX API with the following URL:\n"
        },
        {
            "metadata": {},
            "cell_type": "code",
            "source": "spacex_url=\"https://api.spacexdata.com/v4/launches/past\"",
            "execution_count": 6,
            "outputs": []
        },
        {
            "metadata": {},
            "cell_type": "code",
            "source": "response = requests.get(spacex_url)",
            "execution_count": 7,
            "outputs": []
        },
        {
            "metadata": {},
            "cell_type": "markdown",
            "source": "Check the content of the response\n"
        },
        {
            "metadata": {},
            "cell_type": "code",
            "source": "print(response.content)",
            "execution_count": null,
            "outputs": []
        },
        {
            "metadata": {},
            "cell_type": "markdown",
            "source": "You should see the response contains massive information about SpaceX launches. Next, let's try to discover some more relevant information for this project.\n"
        },
        {
            "metadata": {},
            "cell_type": "markdown",
            "source": "### Task 1: Request and parse the SpaceX launch data using the GET request\n"
        },
        {
            "metadata": {},
            "cell_type": "markdown",
            "source": "To make the requested JSON results more consistent, we will use the following static response object for this project:\n"
        },
        {
            "metadata": {},
            "cell_type": "code",
            "source": "static_json_url='https://cf-courses-data.s3.us.cloud-object-storage.appdomain.cloud/IBM-DS0321EN-SkillsNetwork/datasets/API_call_spacex_api.json'",
            "execution_count": 8,
            "outputs": []
        },
        {
            "metadata": {},
            "cell_type": "markdown",
            "source": "We should see that the request was successfull with the 200 status response code\n"
        },
        {
            "metadata": {},
            "cell_type": "code",
            "source": "response.status_code",
            "execution_count": 9,
            "outputs": [
                {
                    "data": {
                        "text/plain": "200"
                    },
                    "execution_count": 9,
                    "metadata": {},
                    "output_type": "execute_result"
                }
            ]
        },
        {
            "metadata": {},
            "cell_type": "markdown",
            "source": "Now we decode the response content as a Json using <code>.json()</code> and turn it into a Pandas dataframe using <code>.json_normalize()</code>\n"
        },
        {
            "metadata": {},
            "cell_type": "code",
            "source": "# Use json_normalize meethod to convert the json result into a dataframe\nimport json\ndata_json = response.json()\ndata = pd.json_normalize(data_json)",
            "execution_count": 10,
            "outputs": []
        },
        {
            "metadata": {},
            "cell_type": "markdown",
            "source": "Using the dataframe <code>data</code> print the first 5 rows\n"
        },
        {
            "metadata": {},
            "cell_type": "code",
            "source": "# Get the head of the dataframe\ndata.head()",
            "execution_count": 11,
            "outputs": [
                {
                    "data": {
                        "text/html": "<div>\n<style scoped>\n    .dataframe tbody tr th:only-of-type {\n        vertical-align: middle;\n    }\n\n    .dataframe tbody tr th {\n        vertical-align: top;\n    }\n\n    .dataframe thead th {\n        text-align: right;\n    }\n</style>\n<table border=\"1\" class=\"dataframe\">\n  <thead>\n    <tr style=\"text-align: right;\">\n      <th></th>\n      <th>static_fire_date_utc</th>\n      <th>static_fire_date_unix</th>\n      <th>net</th>\n      <th>window</th>\n      <th>rocket</th>\n      <th>success</th>\n      <th>failures</th>\n      <th>details</th>\n      <th>crew</th>\n      <th>ships</th>\n      <th>capsules</th>\n      <th>payloads</th>\n      <th>launchpad</th>\n      <th>flight_number</th>\n      <th>name</th>\n      <th>date_utc</th>\n      <th>date_unix</th>\n      <th>date_local</th>\n      <th>date_precision</th>\n      <th>upcoming</th>\n      <th>cores</th>\n      <th>auto_update</th>\n      <th>tbd</th>\n      <th>launch_library_id</th>\n      <th>id</th>\n      <th>fairings.reused</th>\n      <th>fairings.recovery_attempt</th>\n      <th>fairings.recovered</th>\n      <th>fairings.ships</th>\n      <th>links.patch.small</th>\n      <th>links.patch.large</th>\n      <th>links.reddit.campaign</th>\n      <th>links.reddit.launch</th>\n      <th>links.reddit.media</th>\n      <th>links.reddit.recovery</th>\n      <th>links.flickr.small</th>\n      <th>links.flickr.original</th>\n      <th>links.presskit</th>\n      <th>links.webcast</th>\n      <th>links.youtube_id</th>\n      <th>links.article</th>\n      <th>links.wikipedia</th>\n      <th>fairings</th>\n    </tr>\n  </thead>\n  <tbody>\n    <tr>\n      <th>0</th>\n      <td>2006-03-17T00:00:00.000Z</td>\n      <td>1.142554e+09</td>\n      <td>False</td>\n      <td>0.0</td>\n      <td>5e9d0d95eda69955f709d1eb</td>\n      <td>False</td>\n      <td>[{'time': 33, 'altitude': None, 'reason': 'merlin engine failure'}]</td>\n      <td>Engine failure at 33 seconds and loss of vehicle</td>\n      <td>[]</td>\n      <td>[]</td>\n      <td>[]</td>\n      <td>[5eb0e4b5b6c3bb0006eeb1e1]</td>\n      <td>5e9e4502f5090995de566f86</td>\n      <td>1</td>\n      <td>FalconSat</td>\n      <td>2006-03-24T22:30:00.000Z</td>\n      <td>1143239400</td>\n      <td>2006-03-25T10:30:00+12:00</td>\n      <td>hour</td>\n      <td>False</td>\n      <td>[{'core': '5e9e289df35918033d3b2623', 'flight': 1, 'gridfins': False, 'legs': False, 'reused': False, 'landing_attempt': False, 'landing_success': None, 'landing_type': None, 'landpad': None}]</td>\n      <td>True</td>\n      <td>False</td>\n      <td>None</td>\n      <td>5eb87cd9ffd86e000604b32a</td>\n      <td>False</td>\n      <td>False</td>\n      <td>False</td>\n      <td>[]</td>\n      <td>https://images2.imgbox.com/3c/0e/T8iJcSN3_o.png</td>\n      <td>https://images2.imgbox.com/40/e3/GypSkayF_o.png</td>\n      <td>None</td>\n      <td>None</td>\n      <td>None</td>\n      <td>None</td>\n      <td>[]</td>\n      <td>[]</td>\n      <td>None</td>\n      <td>https://www.youtube.com/watch?v=0a_00nJ_Y88</td>\n      <td>0a_00nJ_Y88</td>\n      <td>https://www.space.com/2196-spacex-inaugural-falcon-1-rocket-lost-launch.html</td>\n      <td>https://en.wikipedia.org/wiki/DemoSat</td>\n      <td>NaN</td>\n    </tr>\n    <tr>\n      <th>1</th>\n      <td>None</td>\n      <td>NaN</td>\n      <td>False</td>\n      <td>0.0</td>\n      <td>5e9d0d95eda69955f709d1eb</td>\n      <td>False</td>\n      <td>[{'time': 301, 'altitude': 289, 'reason': 'harmonic oscillation leading to premature engine shutdown'}]</td>\n      <td>Successful first stage burn and transition to second stage, maximum altitude 289 km, Premature engine shutdown at T+7 min 30 s, Failed to reach orbit, Failed to recover first stage</td>\n      <td>[]</td>\n      <td>[]</td>\n      <td>[]</td>\n      <td>[5eb0e4b6b6c3bb0006eeb1e2]</td>\n      <td>5e9e4502f5090995de566f86</td>\n      <td>2</td>\n      <td>DemoSat</td>\n      <td>2007-03-21T01:10:00.000Z</td>\n      <td>1174439400</td>\n      <td>2007-03-21T13:10:00+12:00</td>\n      <td>hour</td>\n      <td>False</td>\n      <td>[{'core': '5e9e289ef35918416a3b2624', 'flight': 1, 'gridfins': False, 'legs': False, 'reused': False, 'landing_attempt': False, 'landing_success': None, 'landing_type': None, 'landpad': None}]</td>\n      <td>True</td>\n      <td>False</td>\n      <td>None</td>\n      <td>5eb87cdaffd86e000604b32b</td>\n      <td>False</td>\n      <td>False</td>\n      <td>False</td>\n      <td>[]</td>\n      <td>https://images2.imgbox.com/4f/e3/I0lkuJ2e_o.png</td>\n      <td>https://images2.imgbox.com/be/e7/iNqsqVYM_o.png</td>\n      <td>None</td>\n      <td>None</td>\n      <td>None</td>\n      <td>None</td>\n      <td>[]</td>\n      <td>[]</td>\n      <td>None</td>\n      <td>https://www.youtube.com/watch?v=Lk4zQ2wP-Nc</td>\n      <td>Lk4zQ2wP-Nc</td>\n      <td>https://www.space.com/3590-spacex-falcon-1-rocket-fails-reach-orbit.html</td>\n      <td>https://en.wikipedia.org/wiki/DemoSat</td>\n      <td>NaN</td>\n    </tr>\n    <tr>\n      <th>2</th>\n      <td>None</td>\n      <td>NaN</td>\n      <td>False</td>\n      <td>0.0</td>\n      <td>5e9d0d95eda69955f709d1eb</td>\n      <td>False</td>\n      <td>[{'time': 140, 'altitude': 35, 'reason': 'residual stage-1 thrust led to collision between stage 1 and stage 2'}]</td>\n      <td>Residual stage 1 thrust led to collision between stage 1 and stage 2</td>\n      <td>[]</td>\n      <td>[]</td>\n      <td>[]</td>\n      <td>[5eb0e4b6b6c3bb0006eeb1e3, 5eb0e4b6b6c3bb0006eeb1e4]</td>\n      <td>5e9e4502f5090995de566f86</td>\n      <td>3</td>\n      <td>Trailblazer</td>\n      <td>2008-08-03T03:34:00.000Z</td>\n      <td>1217734440</td>\n      <td>2008-08-03T15:34:00+12:00</td>\n      <td>hour</td>\n      <td>False</td>\n      <td>[{'core': '5e9e289ef3591814873b2625', 'flight': 1, 'gridfins': False, 'legs': False, 'reused': False, 'landing_attempt': False, 'landing_success': None, 'landing_type': None, 'landpad': None}]</td>\n      <td>True</td>\n      <td>False</td>\n      <td>None</td>\n      <td>5eb87cdbffd86e000604b32c</td>\n      <td>False</td>\n      <td>False</td>\n      <td>False</td>\n      <td>[]</td>\n      <td>https://images2.imgbox.com/3d/86/cnu0pan8_o.png</td>\n      <td>https://images2.imgbox.com/4b/bd/d8UxLh4q_o.png</td>\n      <td>None</td>\n      <td>None</td>\n      <td>None</td>\n      <td>None</td>\n      <td>[]</td>\n      <td>[]</td>\n      <td>None</td>\n      <td>https://www.youtube.com/watch?v=v0w9p3U8860</td>\n      <td>v0w9p3U8860</td>\n      <td>http://www.spacex.com/news/2013/02/11/falcon-1-flight-3-mission-summary</td>\n      <td>https://en.wikipedia.org/wiki/Trailblazer_(satellite)</td>\n      <td>NaN</td>\n    </tr>\n    <tr>\n      <th>3</th>\n      <td>2008-09-20T00:00:00.000Z</td>\n      <td>1.221869e+09</td>\n      <td>False</td>\n      <td>0.0</td>\n      <td>5e9d0d95eda69955f709d1eb</td>\n      <td>True</td>\n      <td>[]</td>\n      <td>Ratsat was carried to orbit on the first successful orbital launch of any privately funded and developed, liquid-propelled carrier rocket, the\u00a0SpaceX Falcon 1</td>\n      <td>[]</td>\n      <td>[]</td>\n      <td>[]</td>\n      <td>[5eb0e4b7b6c3bb0006eeb1e5]</td>\n      <td>5e9e4502f5090995de566f86</td>\n      <td>4</td>\n      <td>RatSat</td>\n      <td>2008-09-28T23:15:00.000Z</td>\n      <td>1222643700</td>\n      <td>2008-09-28T11:15:00+12:00</td>\n      <td>hour</td>\n      <td>False</td>\n      <td>[{'core': '5e9e289ef3591855dc3b2626', 'flight': 1, 'gridfins': False, 'legs': False, 'reused': False, 'landing_attempt': False, 'landing_success': None, 'landing_type': None, 'landpad': None}]</td>\n      <td>True</td>\n      <td>False</td>\n      <td>None</td>\n      <td>5eb87cdbffd86e000604b32d</td>\n      <td>False</td>\n      <td>False</td>\n      <td>False</td>\n      <td>[]</td>\n      <td>https://images2.imgbox.com/e9/c9/T8CfiSYb_o.png</td>\n      <td>https://images2.imgbox.com/e0/a7/FNjvKlXW_o.png</td>\n      <td>None</td>\n      <td>None</td>\n      <td>None</td>\n      <td>None</td>\n      <td>[]</td>\n      <td>[]</td>\n      <td>None</td>\n      <td>https://www.youtube.com/watch?v=dLQ2tZEH6G0</td>\n      <td>dLQ2tZEH6G0</td>\n      <td>https://en.wikipedia.org/wiki/Ratsat</td>\n      <td>https://en.wikipedia.org/wiki/Ratsat</td>\n      <td>NaN</td>\n    </tr>\n    <tr>\n      <th>4</th>\n      <td>None</td>\n      <td>NaN</td>\n      <td>False</td>\n      <td>0.0</td>\n      <td>5e9d0d95eda69955f709d1eb</td>\n      <td>True</td>\n      <td>[]</td>\n      <td>None</td>\n      <td>[]</td>\n      <td>[]</td>\n      <td>[]</td>\n      <td>[5eb0e4b7b6c3bb0006eeb1e6]</td>\n      <td>5e9e4502f5090995de566f86</td>\n      <td>5</td>\n      <td>RazakSat</td>\n      <td>2009-07-13T03:35:00.000Z</td>\n      <td>1247456100</td>\n      <td>2009-07-13T15:35:00+12:00</td>\n      <td>hour</td>\n      <td>False</td>\n      <td>[{'core': '5e9e289ef359184f103b2627', 'flight': 1, 'gridfins': False, 'legs': False, 'reused': False, 'landing_attempt': False, 'landing_success': None, 'landing_type': None, 'landpad': None}]</td>\n      <td>True</td>\n      <td>False</td>\n      <td>None</td>\n      <td>5eb87cdcffd86e000604b32e</td>\n      <td>False</td>\n      <td>False</td>\n      <td>False</td>\n      <td>[]</td>\n      <td>https://images2.imgbox.com/a7/ba/NBZSw3Ho_o.png</td>\n      <td>https://images2.imgbox.com/8d/fc/0qdZMWWx_o.png</td>\n      <td>None</td>\n      <td>None</td>\n      <td>None</td>\n      <td>None</td>\n      <td>[]</td>\n      <td>[]</td>\n      <td>http://www.spacex.com/press/2012/12/19/spacexs-falcon-1-successfully-delivers-razaksat-satellite-orbit</td>\n      <td>https://www.youtube.com/watch?v=yTaIDooc8Og</td>\n      <td>yTaIDooc8Og</td>\n      <td>http://www.spacex.com/news/2013/02/12/falcon-1-flight-5</td>\n      <td>https://en.wikipedia.org/wiki/RazakSAT</td>\n      <td>NaN</td>\n    </tr>\n  </tbody>\n</table>\n</div>",
                        "text/plain": "       static_fire_date_utc  static_fire_date_unix    net  window  \\\n0  2006-03-17T00:00:00.000Z           1.142554e+09  False     0.0   \n1                      None                    NaN  False     0.0   \n2                      None                    NaN  False     0.0   \n3  2008-09-20T00:00:00.000Z           1.221869e+09  False     0.0   \n4                      None                    NaN  False     0.0   \n\n                     rocket  success  \\\n0  5e9d0d95eda69955f709d1eb    False   \n1  5e9d0d95eda69955f709d1eb    False   \n2  5e9d0d95eda69955f709d1eb    False   \n3  5e9d0d95eda69955f709d1eb     True   \n4  5e9d0d95eda69955f709d1eb     True   \n\n                                                                                                            failures  \\\n0                                                [{'time': 33, 'altitude': None, 'reason': 'merlin engine failure'}]   \n1            [{'time': 301, 'altitude': 289, 'reason': 'harmonic oscillation leading to premature engine shutdown'}]   \n2  [{'time': 140, 'altitude': 35, 'reason': 'residual stage-1 thrust led to collision between stage 1 and stage 2'}]   \n3                                                                                                                 []   \n4                                                                                                                 []   \n\n                                                                                                                                                                                details  \\\n0                                                                                                                                      Engine failure at 33 seconds and loss of vehicle   \n1  Successful first stage burn and transition to second stage, maximum altitude 289 km, Premature engine shutdown at T+7 min 30 s, Failed to reach orbit, Failed to recover first stage   \n2                                                                                                                  Residual stage 1 thrust led to collision between stage 1 and stage 2   \n3                        Ratsat was carried to orbit on the first successful orbital launch of any privately funded and developed, liquid-propelled carrier rocket, the\u00a0SpaceX Falcon 1   \n4                                                                                                                                                                                  None   \n\n  crew ships capsules                                              payloads  \\\n0   []    []       []                            [5eb0e4b5b6c3bb0006eeb1e1]   \n1   []    []       []                            [5eb0e4b6b6c3bb0006eeb1e2]   \n2   []    []       []  [5eb0e4b6b6c3bb0006eeb1e3, 5eb0e4b6b6c3bb0006eeb1e4]   \n3   []    []       []                            [5eb0e4b7b6c3bb0006eeb1e5]   \n4   []    []       []                            [5eb0e4b7b6c3bb0006eeb1e6]   \n\n                  launchpad  flight_number         name  \\\n0  5e9e4502f5090995de566f86              1    FalconSat   \n1  5e9e4502f5090995de566f86              2      DemoSat   \n2  5e9e4502f5090995de566f86              3  Trailblazer   \n3  5e9e4502f5090995de566f86              4       RatSat   \n4  5e9e4502f5090995de566f86              5     RazakSat   \n\n                   date_utc   date_unix                 date_local  \\\n0  2006-03-24T22:30:00.000Z  1143239400  2006-03-25T10:30:00+12:00   \n1  2007-03-21T01:10:00.000Z  1174439400  2007-03-21T13:10:00+12:00   \n2  2008-08-03T03:34:00.000Z  1217734440  2008-08-03T15:34:00+12:00   \n3  2008-09-28T23:15:00.000Z  1222643700  2008-09-28T11:15:00+12:00   \n4  2009-07-13T03:35:00.000Z  1247456100  2009-07-13T15:35:00+12:00   \n\n  date_precision  upcoming  \\\n0           hour     False   \n1           hour     False   \n2           hour     False   \n3           hour     False   \n4           hour     False   \n\n                                                                                                                                                                                              cores  \\\n0  [{'core': '5e9e289df35918033d3b2623', 'flight': 1, 'gridfins': False, 'legs': False, 'reused': False, 'landing_attempt': False, 'landing_success': None, 'landing_type': None, 'landpad': None}]   \n1  [{'core': '5e9e289ef35918416a3b2624', 'flight': 1, 'gridfins': False, 'legs': False, 'reused': False, 'landing_attempt': False, 'landing_success': None, 'landing_type': None, 'landpad': None}]   \n2  [{'core': '5e9e289ef3591814873b2625', 'flight': 1, 'gridfins': False, 'legs': False, 'reused': False, 'landing_attempt': False, 'landing_success': None, 'landing_type': None, 'landpad': None}]   \n3  [{'core': '5e9e289ef3591855dc3b2626', 'flight': 1, 'gridfins': False, 'legs': False, 'reused': False, 'landing_attempt': False, 'landing_success': None, 'landing_type': None, 'landpad': None}]   \n4  [{'core': '5e9e289ef359184f103b2627', 'flight': 1, 'gridfins': False, 'legs': False, 'reused': False, 'landing_attempt': False, 'landing_success': None, 'landing_type': None, 'landpad': None}]   \n\n   auto_update    tbd launch_library_id                        id  \\\n0         True  False              None  5eb87cd9ffd86e000604b32a   \n1         True  False              None  5eb87cdaffd86e000604b32b   \n2         True  False              None  5eb87cdbffd86e000604b32c   \n3         True  False              None  5eb87cdbffd86e000604b32d   \n4         True  False              None  5eb87cdcffd86e000604b32e   \n\n  fairings.reused fairings.recovery_attempt fairings.recovered fairings.ships  \\\n0           False                     False              False             []   \n1           False                     False              False             []   \n2           False                     False              False             []   \n3           False                     False              False             []   \n4           False                     False              False             []   \n\n                                 links.patch.small  \\\n0  https://images2.imgbox.com/3c/0e/T8iJcSN3_o.png   \n1  https://images2.imgbox.com/4f/e3/I0lkuJ2e_o.png   \n2  https://images2.imgbox.com/3d/86/cnu0pan8_o.png   \n3  https://images2.imgbox.com/e9/c9/T8CfiSYb_o.png   \n4  https://images2.imgbox.com/a7/ba/NBZSw3Ho_o.png   \n\n                                 links.patch.large links.reddit.campaign  \\\n0  https://images2.imgbox.com/40/e3/GypSkayF_o.png                  None   \n1  https://images2.imgbox.com/be/e7/iNqsqVYM_o.png                  None   \n2  https://images2.imgbox.com/4b/bd/d8UxLh4q_o.png                  None   \n3  https://images2.imgbox.com/e0/a7/FNjvKlXW_o.png                  None   \n4  https://images2.imgbox.com/8d/fc/0qdZMWWx_o.png                  None   \n\n  links.reddit.launch links.reddit.media links.reddit.recovery  \\\n0                None               None                  None   \n1                None               None                  None   \n2                None               None                  None   \n3                None               None                  None   \n4                None               None                  None   \n\n  links.flickr.small links.flickr.original  \\\n0                 []                    []   \n1                 []                    []   \n2                 []                    []   \n3                 []                    []   \n4                 []                    []   \n\n                                                                                           links.presskit  \\\n0                                                                                                    None   \n1                                                                                                    None   \n2                                                                                                    None   \n3                                                                                                    None   \n4  http://www.spacex.com/press/2012/12/19/spacexs-falcon-1-successfully-delivers-razaksat-satellite-orbit   \n\n                                 links.webcast links.youtube_id  \\\n0  https://www.youtube.com/watch?v=0a_00nJ_Y88      0a_00nJ_Y88   \n1  https://www.youtube.com/watch?v=Lk4zQ2wP-Nc      Lk4zQ2wP-Nc   \n2  https://www.youtube.com/watch?v=v0w9p3U8860      v0w9p3U8860   \n3  https://www.youtube.com/watch?v=dLQ2tZEH6G0      dLQ2tZEH6G0   \n4  https://www.youtube.com/watch?v=yTaIDooc8Og      yTaIDooc8Og   \n\n                                                                  links.article  \\\n0  https://www.space.com/2196-spacex-inaugural-falcon-1-rocket-lost-launch.html   \n1      https://www.space.com/3590-spacex-falcon-1-rocket-fails-reach-orbit.html   \n2       http://www.spacex.com/news/2013/02/11/falcon-1-flight-3-mission-summary   \n3                                          https://en.wikipedia.org/wiki/Ratsat   \n4                       http://www.spacex.com/news/2013/02/12/falcon-1-flight-5   \n\n                                         links.wikipedia  fairings  \n0                  https://en.wikipedia.org/wiki/DemoSat       NaN  \n1                  https://en.wikipedia.org/wiki/DemoSat       NaN  \n2  https://en.wikipedia.org/wiki/Trailblazer_(satellite)       NaN  \n3                   https://en.wikipedia.org/wiki/Ratsat       NaN  \n4                 https://en.wikipedia.org/wiki/RazakSAT       NaN  "
                    },
                    "execution_count": 11,
                    "metadata": {},
                    "output_type": "execute_result"
                }
            ]
        },
        {
            "metadata": {},
            "cell_type": "markdown",
            "source": "You will notice that a lot of the data are IDs. For example the rocket column has no information about the rocket just an identification number.\n\nWe will now use the API again to get information about the launches using the IDs given for each launch. Specifically we will be using columns <code>rocket</code>, <code>payloads</code>, <code>launchpad</code>, and <code>cores</code>.\n"
        },
        {
            "metadata": {},
            "cell_type": "code",
            "source": "# Lets take a subset of our dataframe keeping only the features we want and the flight number, and date_utc.\ndata = data[['rocket', 'payloads', 'launchpad', 'cores', 'flight_number', 'date_utc']]",
            "execution_count": 12,
            "outputs": []
        },
        {
            "metadata": {},
            "cell_type": "code",
            "source": "data.head()\ndata_t= data[data['payloads'].map(len)>2]\ndata_t.head()",
            "execution_count": 13,
            "outputs": [
                {
                    "data": {
                        "text/html": "<div>\n<style scoped>\n    .dataframe tbody tr th:only-of-type {\n        vertical-align: middle;\n    }\n\n    .dataframe tbody tr th {\n        vertical-align: top;\n    }\n\n    .dataframe thead th {\n        text-align: right;\n    }\n</style>\n<table border=\"1\" class=\"dataframe\">\n  <thead>\n    <tr style=\"text-align: right;\">\n      <th></th>\n      <th>rocket</th>\n      <th>payloads</th>\n      <th>launchpad</th>\n      <th>cores</th>\n      <th>flight_number</th>\n      <th>date_utc</th>\n    </tr>\n  </thead>\n  <tbody>\n    <tr>\n      <th>74</th>\n      <td>5e9d0d95eda69973a809d1ec</td>\n      <td>[5eb0e4cab6c3bb0006eeb232, 5eb0e4cab6c3bb0006eeb233, 5eb0e4cab6c3bb0006eeb234]</td>\n      <td>5e9e4501f509094ba4566f84</td>\n      <td>[{'core': '5e9e28a5f3591809c03b2658', 'flight': 3, 'gridfins': True, 'legs': True, 'reused': True, 'landing_attempt': True, 'landing_success': True, 'landing_type': 'ASDS', 'landpad': '5e9e3032383ecb6bb234e7ca'}]</td>\n      <td>75</td>\n      <td>2019-02-22T01:45:00.000Z</td>\n    </tr>\n    <tr>\n      <th>80</th>\n      <td>5e9d0d95eda69974db09d1ed</td>\n      <td>[5eb0e4ccb6c3bb0006eeb23a, 5eb0e4ccb6c3bb0006eeb23b, 5eb0e4ccb6c3bb0006eeb23c, 5eb0e4ccb6c3bb0006eeb23d, 5eb0e4ccb6c3bb0006eeb23e, 5eb0e4cdb6c3bb0006eeb23f, 5eb0e4cdb6c3bb0006eeb240, 5eb0e4cdb6c3bb0006eeb241, 5eb0e4cdb6c3bb0006eeb242, 5eb0e4cdb6c3bb0006eeb243, 5eb0e4cdb6c3bb0006eeb244, 5eb0e4cdb6c3bb0006eeb245, 5eb0e4ceb6c3bb0006eeb246, 5eb0e4ceb6c3bb0006eeb247, 5eb0e4ceb6c3bb0006eeb248, 5eb0e4ceb6c3bb0006eeb249]</td>\n      <td>5e9e4502f509094188566f88</td>\n      <td>[{'core': '5e9e28a7f3591878063b2661', 'flight': 1, 'gridfins': True, 'legs': True, 'reused': False, 'landing_attempt': True, 'landing_success': False, 'landing_type': 'ASDS', 'landpad': '5e9e3032383ecb6bb234e7ca'}, {'core': '5e9e28a6f359183c413b265d', 'flight': 2, 'gridfins': True, 'legs': True, 'reused': True, 'landing_attempt': True, 'landing_success': True, 'landing_type': 'RTLS', 'landpad': '5e9e3032383ecb267a34e7c7'}, {'core': '5e9e28a6f359188fd53b265e', 'flight': 2, 'gridfins': True, 'legs': True, 'reused': True, 'landing_attempt': True, 'landing_success': True, 'landing_type': 'RTLS', 'landpad': '5e9e3032383ecb90a834e7c8'}]</td>\n      <td>81</td>\n      <td>2019-06-25T03:30:00.000Z</td>\n    </tr>\n    <tr>\n      <th>126</th>\n      <td>5e9d0d95eda69973a809d1ec</td>\n      <td>[605b4bfcaa5433645e37d048, 609f48374a12e4692eae4667, 609f49c64a12e4692eae4668]</td>\n      <td>5e9e4502f509094188566f88</td>\n      <td>[{'core': '5e9e28a7f3591817f23b2663', 'flight': 8, 'gridfins': True, 'legs': True, 'reused': True, 'landing_attempt': True, 'landing_success': True, 'landing_type': 'ASDS', 'landpad': '5e9e3032383ecb6bb234e7ca'}]</td>\n      <td>127</td>\n      <td>2021-05-15T22:54:00.000Z</td>\n    </tr>\n  </tbody>\n</table>\n</div>",
                        "text/plain": "                       rocket  \\\n74   5e9d0d95eda69973a809d1ec   \n80   5e9d0d95eda69974db09d1ed   \n126  5e9d0d95eda69973a809d1ec   \n\n                                                                                                                                                                                                                                                                                                                                                                                                                             payloads  \\\n74                                                                                                                                                                                                                                                                                                                                                     [5eb0e4cab6c3bb0006eeb232, 5eb0e4cab6c3bb0006eeb233, 5eb0e4cab6c3bb0006eeb234]   \n80   [5eb0e4ccb6c3bb0006eeb23a, 5eb0e4ccb6c3bb0006eeb23b, 5eb0e4ccb6c3bb0006eeb23c, 5eb0e4ccb6c3bb0006eeb23d, 5eb0e4ccb6c3bb0006eeb23e, 5eb0e4cdb6c3bb0006eeb23f, 5eb0e4cdb6c3bb0006eeb240, 5eb0e4cdb6c3bb0006eeb241, 5eb0e4cdb6c3bb0006eeb242, 5eb0e4cdb6c3bb0006eeb243, 5eb0e4cdb6c3bb0006eeb244, 5eb0e4cdb6c3bb0006eeb245, 5eb0e4ceb6c3bb0006eeb246, 5eb0e4ceb6c3bb0006eeb247, 5eb0e4ceb6c3bb0006eeb248, 5eb0e4ceb6c3bb0006eeb249]   \n126                                                                                                                                                                                                                                                                                                                                                    [605b4bfcaa5433645e37d048, 609f48374a12e4692eae4667, 609f49c64a12e4692eae4668]   \n\n                    launchpad  \\\n74   5e9e4501f509094ba4566f84   \n80   5e9e4502f509094188566f88   \n126  5e9e4502f509094188566f88   \n\n                                                                                                                                                                                                                                                                                                                                                                                                                                                                                                                                                                                                                                                              cores  \\\n74                                                                                                                                                                                                                                                                                                                                                                                                                                             [{'core': '5e9e28a5f3591809c03b2658', 'flight': 3, 'gridfins': True, 'legs': True, 'reused': True, 'landing_attempt': True, 'landing_success': True, 'landing_type': 'ASDS', 'landpad': '5e9e3032383ecb6bb234e7ca'}]   \n80   [{'core': '5e9e28a7f3591878063b2661', 'flight': 1, 'gridfins': True, 'legs': True, 'reused': False, 'landing_attempt': True, 'landing_success': False, 'landing_type': 'ASDS', 'landpad': '5e9e3032383ecb6bb234e7ca'}, {'core': '5e9e28a6f359183c413b265d', 'flight': 2, 'gridfins': True, 'legs': True, 'reused': True, 'landing_attempt': True, 'landing_success': True, 'landing_type': 'RTLS', 'landpad': '5e9e3032383ecb267a34e7c7'}, {'core': '5e9e28a6f359188fd53b265e', 'flight': 2, 'gridfins': True, 'legs': True, 'reused': True, 'landing_attempt': True, 'landing_success': True, 'landing_type': 'RTLS', 'landpad': '5e9e3032383ecb90a834e7c8'}]   \n126                                                                                                                                                                                                                                                                                                                                                                                                                                            [{'core': '5e9e28a7f3591817f23b2663', 'flight': 8, 'gridfins': True, 'legs': True, 'reused': True, 'landing_attempt': True, 'landing_success': True, 'landing_type': 'ASDS', 'landpad': '5e9e3032383ecb6bb234e7ca'}]   \n\n     flight_number                  date_utc  \n74              75  2019-02-22T01:45:00.000Z  \n80              81  2019-06-25T03:30:00.000Z  \n126            127  2021-05-15T22:54:00.000Z  "
                    },
                    "execution_count": 13,
                    "metadata": {},
                    "output_type": "execute_result"
                }
            ]
        },
        {
            "metadata": {},
            "cell_type": "code",
            "source": "# We will remove rows with multiple cores because those are falcon rockets with 2 extra rocket boosters and rows that have multiple payloads in a single rocket.\ndata = data[data['cores'].map(len)==1]\ndata = data[data['payloads'].map(len)==1]",
            "execution_count": 14,
            "outputs": []
        },
        {
            "metadata": {},
            "cell_type": "code",
            "source": "data.head()",
            "execution_count": 15,
            "outputs": [
                {
                    "data": {
                        "text/html": "<div>\n<style scoped>\n    .dataframe tbody tr th:only-of-type {\n        vertical-align: middle;\n    }\n\n    .dataframe tbody tr th {\n        vertical-align: top;\n    }\n\n    .dataframe thead th {\n        text-align: right;\n    }\n</style>\n<table border=\"1\" class=\"dataframe\">\n  <thead>\n    <tr style=\"text-align: right;\">\n      <th></th>\n      <th>rocket</th>\n      <th>payloads</th>\n      <th>launchpad</th>\n      <th>cores</th>\n      <th>flight_number</th>\n      <th>date_utc</th>\n    </tr>\n  </thead>\n  <tbody>\n    <tr>\n      <th>0</th>\n      <td>5e9d0d95eda69955f709d1eb</td>\n      <td>[5eb0e4b5b6c3bb0006eeb1e1]</td>\n      <td>5e9e4502f5090995de566f86</td>\n      <td>[{'core': '5e9e289df35918033d3b2623', 'flight': 1, 'gridfins': False, 'legs': False, 'reused': False, 'landing_attempt': False, 'landing_success': None, 'landing_type': None, 'landpad': None}]</td>\n      <td>1</td>\n      <td>2006-03-24T22:30:00.000Z</td>\n    </tr>\n    <tr>\n      <th>1</th>\n      <td>5e9d0d95eda69955f709d1eb</td>\n      <td>[5eb0e4b6b6c3bb0006eeb1e2]</td>\n      <td>5e9e4502f5090995de566f86</td>\n      <td>[{'core': '5e9e289ef35918416a3b2624', 'flight': 1, 'gridfins': False, 'legs': False, 'reused': False, 'landing_attempt': False, 'landing_success': None, 'landing_type': None, 'landpad': None}]</td>\n      <td>2</td>\n      <td>2007-03-21T01:10:00.000Z</td>\n    </tr>\n    <tr>\n      <th>3</th>\n      <td>5e9d0d95eda69955f709d1eb</td>\n      <td>[5eb0e4b7b6c3bb0006eeb1e5]</td>\n      <td>5e9e4502f5090995de566f86</td>\n      <td>[{'core': '5e9e289ef3591855dc3b2626', 'flight': 1, 'gridfins': False, 'legs': False, 'reused': False, 'landing_attempt': False, 'landing_success': None, 'landing_type': None, 'landpad': None}]</td>\n      <td>4</td>\n      <td>2008-09-28T23:15:00.000Z</td>\n    </tr>\n    <tr>\n      <th>4</th>\n      <td>5e9d0d95eda69955f709d1eb</td>\n      <td>[5eb0e4b7b6c3bb0006eeb1e6]</td>\n      <td>5e9e4502f5090995de566f86</td>\n      <td>[{'core': '5e9e289ef359184f103b2627', 'flight': 1, 'gridfins': False, 'legs': False, 'reused': False, 'landing_attempt': False, 'landing_success': None, 'landing_type': None, 'landpad': None}]</td>\n      <td>5</td>\n      <td>2009-07-13T03:35:00.000Z</td>\n    </tr>\n    <tr>\n      <th>5</th>\n      <td>5e9d0d95eda69973a809d1ec</td>\n      <td>[5eb0e4b7b6c3bb0006eeb1e7]</td>\n      <td>5e9e4501f509094ba4566f84</td>\n      <td>[{'core': '5e9e289ef359185f2b3b2628', 'flight': 1, 'gridfins': False, 'legs': False, 'reused': False, 'landing_attempt': False, 'landing_success': None, 'landing_type': None, 'landpad': None}]</td>\n      <td>6</td>\n      <td>2010-06-04T18:45:00.000Z</td>\n    </tr>\n  </tbody>\n</table>\n</div>",
                        "text/plain": "                     rocket                    payloads  \\\n0  5e9d0d95eda69955f709d1eb  [5eb0e4b5b6c3bb0006eeb1e1]   \n1  5e9d0d95eda69955f709d1eb  [5eb0e4b6b6c3bb0006eeb1e2]   \n3  5e9d0d95eda69955f709d1eb  [5eb0e4b7b6c3bb0006eeb1e5]   \n4  5e9d0d95eda69955f709d1eb  [5eb0e4b7b6c3bb0006eeb1e6]   \n5  5e9d0d95eda69973a809d1ec  [5eb0e4b7b6c3bb0006eeb1e7]   \n\n                  launchpad  \\\n0  5e9e4502f5090995de566f86   \n1  5e9e4502f5090995de566f86   \n3  5e9e4502f5090995de566f86   \n4  5e9e4502f5090995de566f86   \n5  5e9e4501f509094ba4566f84   \n\n                                                                                                                                                                                              cores  \\\n0  [{'core': '5e9e289df35918033d3b2623', 'flight': 1, 'gridfins': False, 'legs': False, 'reused': False, 'landing_attempt': False, 'landing_success': None, 'landing_type': None, 'landpad': None}]   \n1  [{'core': '5e9e289ef35918416a3b2624', 'flight': 1, 'gridfins': False, 'legs': False, 'reused': False, 'landing_attempt': False, 'landing_success': None, 'landing_type': None, 'landpad': None}]   \n3  [{'core': '5e9e289ef3591855dc3b2626', 'flight': 1, 'gridfins': False, 'legs': False, 'reused': False, 'landing_attempt': False, 'landing_success': None, 'landing_type': None, 'landpad': None}]   \n4  [{'core': '5e9e289ef359184f103b2627', 'flight': 1, 'gridfins': False, 'legs': False, 'reused': False, 'landing_attempt': False, 'landing_success': None, 'landing_type': None, 'landpad': None}]   \n5  [{'core': '5e9e289ef359185f2b3b2628', 'flight': 1, 'gridfins': False, 'legs': False, 'reused': False, 'landing_attempt': False, 'landing_success': None, 'landing_type': None, 'landpad': None}]   \n\n   flight_number                  date_utc  \n0              1  2006-03-24T22:30:00.000Z  \n1              2  2007-03-21T01:10:00.000Z  \n3              4  2008-09-28T23:15:00.000Z  \n4              5  2009-07-13T03:35:00.000Z  \n5              6  2010-06-04T18:45:00.000Z  "
                    },
                    "execution_count": 15,
                    "metadata": {},
                    "output_type": "execute_result"
                }
            ]
        },
        {
            "metadata": {},
            "cell_type": "code",
            "source": "# Since payloads and cores are lists of size 1 we will also extract the single value in the list and replace the feature.\ndata['cores'] = data['cores'].map(lambda x : x[0])\ndata['payloads'] = data['payloads'].map(lambda x : x[0])",
            "execution_count": 16,
            "outputs": []
        },
        {
            "metadata": {},
            "cell_type": "code",
            "source": "data.head()",
            "execution_count": 17,
            "outputs": [
                {
                    "data": {
                        "text/html": "<div>\n<style scoped>\n    .dataframe tbody tr th:only-of-type {\n        vertical-align: middle;\n    }\n\n    .dataframe tbody tr th {\n        vertical-align: top;\n    }\n\n    .dataframe thead th {\n        text-align: right;\n    }\n</style>\n<table border=\"1\" class=\"dataframe\">\n  <thead>\n    <tr style=\"text-align: right;\">\n      <th></th>\n      <th>rocket</th>\n      <th>payloads</th>\n      <th>launchpad</th>\n      <th>cores</th>\n      <th>flight_number</th>\n      <th>date_utc</th>\n    </tr>\n  </thead>\n  <tbody>\n    <tr>\n      <th>0</th>\n      <td>5e9d0d95eda69955f709d1eb</td>\n      <td>5eb0e4b5b6c3bb0006eeb1e1</td>\n      <td>5e9e4502f5090995de566f86</td>\n      <td>{'core': '5e9e289df35918033d3b2623', 'flight': 1, 'gridfins': False, 'legs': False, 'reused': False, 'landing_attempt': False, 'landing_success': None, 'landing_type': None, 'landpad': None}</td>\n      <td>1</td>\n      <td>2006-03-24T22:30:00.000Z</td>\n    </tr>\n    <tr>\n      <th>1</th>\n      <td>5e9d0d95eda69955f709d1eb</td>\n      <td>5eb0e4b6b6c3bb0006eeb1e2</td>\n      <td>5e9e4502f5090995de566f86</td>\n      <td>{'core': '5e9e289ef35918416a3b2624', 'flight': 1, 'gridfins': False, 'legs': False, 'reused': False, 'landing_attempt': False, 'landing_success': None, 'landing_type': None, 'landpad': None}</td>\n      <td>2</td>\n      <td>2007-03-21T01:10:00.000Z</td>\n    </tr>\n    <tr>\n      <th>3</th>\n      <td>5e9d0d95eda69955f709d1eb</td>\n      <td>5eb0e4b7b6c3bb0006eeb1e5</td>\n      <td>5e9e4502f5090995de566f86</td>\n      <td>{'core': '5e9e289ef3591855dc3b2626', 'flight': 1, 'gridfins': False, 'legs': False, 'reused': False, 'landing_attempt': False, 'landing_success': None, 'landing_type': None, 'landpad': None}</td>\n      <td>4</td>\n      <td>2008-09-28T23:15:00.000Z</td>\n    </tr>\n    <tr>\n      <th>4</th>\n      <td>5e9d0d95eda69955f709d1eb</td>\n      <td>5eb0e4b7b6c3bb0006eeb1e6</td>\n      <td>5e9e4502f5090995de566f86</td>\n      <td>{'core': '5e9e289ef359184f103b2627', 'flight': 1, 'gridfins': False, 'legs': False, 'reused': False, 'landing_attempt': False, 'landing_success': None, 'landing_type': None, 'landpad': None}</td>\n      <td>5</td>\n      <td>2009-07-13T03:35:00.000Z</td>\n    </tr>\n    <tr>\n      <th>5</th>\n      <td>5e9d0d95eda69973a809d1ec</td>\n      <td>5eb0e4b7b6c3bb0006eeb1e7</td>\n      <td>5e9e4501f509094ba4566f84</td>\n      <td>{'core': '5e9e289ef359185f2b3b2628', 'flight': 1, 'gridfins': False, 'legs': False, 'reused': False, 'landing_attempt': False, 'landing_success': None, 'landing_type': None, 'landpad': None}</td>\n      <td>6</td>\n      <td>2010-06-04T18:45:00.000Z</td>\n    </tr>\n  </tbody>\n</table>\n</div>",
                        "text/plain": "                     rocket                  payloads  \\\n0  5e9d0d95eda69955f709d1eb  5eb0e4b5b6c3bb0006eeb1e1   \n1  5e9d0d95eda69955f709d1eb  5eb0e4b6b6c3bb0006eeb1e2   \n3  5e9d0d95eda69955f709d1eb  5eb0e4b7b6c3bb0006eeb1e5   \n4  5e9d0d95eda69955f709d1eb  5eb0e4b7b6c3bb0006eeb1e6   \n5  5e9d0d95eda69973a809d1ec  5eb0e4b7b6c3bb0006eeb1e7   \n\n                  launchpad  \\\n0  5e9e4502f5090995de566f86   \n1  5e9e4502f5090995de566f86   \n3  5e9e4502f5090995de566f86   \n4  5e9e4502f5090995de566f86   \n5  5e9e4501f509094ba4566f84   \n\n                                                                                                                                                                                            cores  \\\n0  {'core': '5e9e289df35918033d3b2623', 'flight': 1, 'gridfins': False, 'legs': False, 'reused': False, 'landing_attempt': False, 'landing_success': None, 'landing_type': None, 'landpad': None}   \n1  {'core': '5e9e289ef35918416a3b2624', 'flight': 1, 'gridfins': False, 'legs': False, 'reused': False, 'landing_attempt': False, 'landing_success': None, 'landing_type': None, 'landpad': None}   \n3  {'core': '5e9e289ef3591855dc3b2626', 'flight': 1, 'gridfins': False, 'legs': False, 'reused': False, 'landing_attempt': False, 'landing_success': None, 'landing_type': None, 'landpad': None}   \n4  {'core': '5e9e289ef359184f103b2627', 'flight': 1, 'gridfins': False, 'legs': False, 'reused': False, 'landing_attempt': False, 'landing_success': None, 'landing_type': None, 'landpad': None}   \n5  {'core': '5e9e289ef359185f2b3b2628', 'flight': 1, 'gridfins': False, 'legs': False, 'reused': False, 'landing_attempt': False, 'landing_success': None, 'landing_type': None, 'landpad': None}   \n\n   flight_number                  date_utc  \n0              1  2006-03-24T22:30:00.000Z  \n1              2  2007-03-21T01:10:00.000Z  \n3              4  2008-09-28T23:15:00.000Z  \n4              5  2009-07-13T03:35:00.000Z  \n5              6  2010-06-04T18:45:00.000Z  "
                    },
                    "execution_count": 17,
                    "metadata": {},
                    "output_type": "execute_result"
                }
            ]
        },
        {
            "metadata": {},
            "cell_type": "code",
            "source": "data.dtypes",
            "execution_count": 18,
            "outputs": [
                {
                    "data": {
                        "text/plain": "rocket           object\npayloads         object\nlaunchpad        object\ncores            object\nflight_number     int64\ndate_utc         object\ndtype: object"
                    },
                    "execution_count": 18,
                    "metadata": {},
                    "output_type": "execute_result"
                }
            ]
        },
        {
            "metadata": {},
            "cell_type": "code",
            "source": "# We also want to convert the date_utc to a datetime datatype and then extracting the date leaving the time\ndata['date'] = pd.to_datetime(data['date_utc']).dt.date\n\n# Using the date we will restrict the dates of the launches\ndata = data[data['date'] <= datetime.date(2020, 11, 13)]",
            "execution_count": 19,
            "outputs": []
        },
        {
            "metadata": {},
            "cell_type": "markdown",
            "source": "*   From the <code>rocket</code> we would like to learn the booster name\n\n*   From the <code>payload</code> we would like to learn the mass of the payload and the orbit that it is going to\n\n*   From the <code>launchpad</code> we would like to know the name of the launch site being used, the longitude, and the latitude.\n\n*   From <code>cores</code> we would like to learn the outcome of the landing, the type of the landing, number of flights with that core, whether gridfins were used, whether the core is reused, whether legs were used, the landing pad used, the block of the core which is a number used to seperate version of cores, the number of times this specific core has been reused, and the serial of the core.\n\nThe data from these requests will be stored in lists and will be used to create a new dataframe.\n"
        },
        {
            "metadata": {},
            "cell_type": "code",
            "source": "#Global variables \nBoosterVersion = []\nPayloadMass = []\nOrbit = []\nLaunchSite = []\nOutcome = []\nFlights = []\nGridFins = []\nReused = []\nLegs = []\nLandingPad = []\nBlock = []\nReusedCount = []\nSerial = []\nLongitude = []\nLatitude = []",
            "execution_count": 20,
            "outputs": []
        },
        {
            "metadata": {},
            "cell_type": "markdown",
            "source": "These functions will apply the outputs globally to the above variables. Let's take a looks at <code>BoosterVersion</code> variable. Before we apply  <code>getBoosterVersion</code> the list is empty:\n"
        },
        {
            "metadata": {},
            "cell_type": "code",
            "source": "BoosterVersion",
            "execution_count": 21,
            "outputs": [
                {
                    "data": {
                        "text/plain": "[]"
                    },
                    "execution_count": 21,
                    "metadata": {},
                    "output_type": "execute_result"
                }
            ]
        },
        {
            "metadata": {},
            "cell_type": "markdown",
            "source": "Now, let's apply <code> getBoosterVersion</code> function method to get the booster version\n"
        },
        {
            "metadata": {},
            "cell_type": "code",
            "source": "# Call getBoosterVersion\ngetBoosterVersion(data)",
            "execution_count": 22,
            "outputs": []
        },
        {
            "metadata": {},
            "cell_type": "markdown",
            "source": "the list has now been update\n"
        },
        {
            "metadata": {},
            "cell_type": "code",
            "source": "BoosterVersion[0:5]",
            "execution_count": 23,
            "outputs": [
                {
                    "data": {
                        "text/plain": "['Falcon 1', 'Falcon 1', 'Falcon 1', 'Falcon 1', 'Falcon 9']"
                    },
                    "execution_count": 23,
                    "metadata": {},
                    "output_type": "execute_result"
                }
            ]
        },
        {
            "metadata": {},
            "cell_type": "code",
            "source": "len(BoosterVersion)",
            "execution_count": 24,
            "outputs": [
                {
                    "data": {
                        "text/plain": "94"
                    },
                    "execution_count": 24,
                    "metadata": {},
                    "output_type": "execute_result"
                }
            ]
        },
        {
            "metadata": {},
            "cell_type": "markdown",
            "source": "we can apply the rest of the  functions here:\n"
        },
        {
            "metadata": {},
            "cell_type": "code",
            "source": "# Call getLaunchSite\ngetLaunchSite(data)\nLaunchSite[0:5]",
            "execution_count": 25,
            "outputs": [
                {
                    "data": {
                        "text/plain": "['Kwajalein Atoll',\n 'Kwajalein Atoll',\n 'Kwajalein Atoll',\n 'Kwajalein Atoll',\n 'CCSFS SLC 40']"
                    },
                    "execution_count": 25,
                    "metadata": {},
                    "output_type": "execute_result"
                }
            ]
        },
        {
            "metadata": {},
            "cell_type": "code",
            "source": "# Call getPayloadData\ngetPayloadData(data)\nPayloadMass[0:5]",
            "execution_count": 26,
            "outputs": [
                {
                    "data": {
                        "text/plain": "[20, None, 165, 200, None]"
                    },
                    "execution_count": 26,
                    "metadata": {},
                    "output_type": "execute_result"
                }
            ]
        },
        {
            "metadata": {},
            "cell_type": "code",
            "source": "# Call getCoreData\ngetCoreData(data)",
            "execution_count": 27,
            "outputs": []
        },
        {
            "metadata": {},
            "cell_type": "code",
            "source": "data.head()",
            "execution_count": 28,
            "outputs": [
                {
                    "data": {
                        "text/html": "<div>\n<style scoped>\n    .dataframe tbody tr th:only-of-type {\n        vertical-align: middle;\n    }\n\n    .dataframe tbody tr th {\n        vertical-align: top;\n    }\n\n    .dataframe thead th {\n        text-align: right;\n    }\n</style>\n<table border=\"1\" class=\"dataframe\">\n  <thead>\n    <tr style=\"text-align: right;\">\n      <th></th>\n      <th>rocket</th>\n      <th>payloads</th>\n      <th>launchpad</th>\n      <th>cores</th>\n      <th>flight_number</th>\n      <th>date_utc</th>\n      <th>date</th>\n    </tr>\n  </thead>\n  <tbody>\n    <tr>\n      <th>0</th>\n      <td>5e9d0d95eda69955f709d1eb</td>\n      <td>5eb0e4b5b6c3bb0006eeb1e1</td>\n      <td>5e9e4502f5090995de566f86</td>\n      <td>{'core': '5e9e289df35918033d3b2623', 'flight': 1, 'gridfins': False, 'legs': False, 'reused': False, 'landing_attempt': False, 'landing_success': None, 'landing_type': None, 'landpad': None}</td>\n      <td>1</td>\n      <td>2006-03-24T22:30:00.000Z</td>\n      <td>2006-03-24</td>\n    </tr>\n    <tr>\n      <th>1</th>\n      <td>5e9d0d95eda69955f709d1eb</td>\n      <td>5eb0e4b6b6c3bb0006eeb1e2</td>\n      <td>5e9e4502f5090995de566f86</td>\n      <td>{'core': '5e9e289ef35918416a3b2624', 'flight': 1, 'gridfins': False, 'legs': False, 'reused': False, 'landing_attempt': False, 'landing_success': None, 'landing_type': None, 'landpad': None}</td>\n      <td>2</td>\n      <td>2007-03-21T01:10:00.000Z</td>\n      <td>2007-03-21</td>\n    </tr>\n    <tr>\n      <th>3</th>\n      <td>5e9d0d95eda69955f709d1eb</td>\n      <td>5eb0e4b7b6c3bb0006eeb1e5</td>\n      <td>5e9e4502f5090995de566f86</td>\n      <td>{'core': '5e9e289ef3591855dc3b2626', 'flight': 1, 'gridfins': False, 'legs': False, 'reused': False, 'landing_attempt': False, 'landing_success': None, 'landing_type': None, 'landpad': None}</td>\n      <td>4</td>\n      <td>2008-09-28T23:15:00.000Z</td>\n      <td>2008-09-28</td>\n    </tr>\n    <tr>\n      <th>4</th>\n      <td>5e9d0d95eda69955f709d1eb</td>\n      <td>5eb0e4b7b6c3bb0006eeb1e6</td>\n      <td>5e9e4502f5090995de566f86</td>\n      <td>{'core': '5e9e289ef359184f103b2627', 'flight': 1, 'gridfins': False, 'legs': False, 'reused': False, 'landing_attempt': False, 'landing_success': None, 'landing_type': None, 'landpad': None}</td>\n      <td>5</td>\n      <td>2009-07-13T03:35:00.000Z</td>\n      <td>2009-07-13</td>\n    </tr>\n    <tr>\n      <th>5</th>\n      <td>5e9d0d95eda69973a809d1ec</td>\n      <td>5eb0e4b7b6c3bb0006eeb1e7</td>\n      <td>5e9e4501f509094ba4566f84</td>\n      <td>{'core': '5e9e289ef359185f2b3b2628', 'flight': 1, 'gridfins': False, 'legs': False, 'reused': False, 'landing_attempt': False, 'landing_success': None, 'landing_type': None, 'landpad': None}</td>\n      <td>6</td>\n      <td>2010-06-04T18:45:00.000Z</td>\n      <td>2010-06-04</td>\n    </tr>\n  </tbody>\n</table>\n</div>",
                        "text/plain": "                     rocket                  payloads  \\\n0  5e9d0d95eda69955f709d1eb  5eb0e4b5b6c3bb0006eeb1e1   \n1  5e9d0d95eda69955f709d1eb  5eb0e4b6b6c3bb0006eeb1e2   \n3  5e9d0d95eda69955f709d1eb  5eb0e4b7b6c3bb0006eeb1e5   \n4  5e9d0d95eda69955f709d1eb  5eb0e4b7b6c3bb0006eeb1e6   \n5  5e9d0d95eda69973a809d1ec  5eb0e4b7b6c3bb0006eeb1e7   \n\n                  launchpad  \\\n0  5e9e4502f5090995de566f86   \n1  5e9e4502f5090995de566f86   \n3  5e9e4502f5090995de566f86   \n4  5e9e4502f5090995de566f86   \n5  5e9e4501f509094ba4566f84   \n\n                                                                                                                                                                                            cores  \\\n0  {'core': '5e9e289df35918033d3b2623', 'flight': 1, 'gridfins': False, 'legs': False, 'reused': False, 'landing_attempt': False, 'landing_success': None, 'landing_type': None, 'landpad': None}   \n1  {'core': '5e9e289ef35918416a3b2624', 'flight': 1, 'gridfins': False, 'legs': False, 'reused': False, 'landing_attempt': False, 'landing_success': None, 'landing_type': None, 'landpad': None}   \n3  {'core': '5e9e289ef3591855dc3b2626', 'flight': 1, 'gridfins': False, 'legs': False, 'reused': False, 'landing_attempt': False, 'landing_success': None, 'landing_type': None, 'landpad': None}   \n4  {'core': '5e9e289ef359184f103b2627', 'flight': 1, 'gridfins': False, 'legs': False, 'reused': False, 'landing_attempt': False, 'landing_success': None, 'landing_type': None, 'landpad': None}   \n5  {'core': '5e9e289ef359185f2b3b2628', 'flight': 1, 'gridfins': False, 'legs': False, 'reused': False, 'landing_attempt': False, 'landing_success': None, 'landing_type': None, 'landpad': None}   \n\n   flight_number                  date_utc        date  \n0              1  2006-03-24T22:30:00.000Z  2006-03-24  \n1              2  2007-03-21T01:10:00.000Z  2007-03-21  \n3              4  2008-09-28T23:15:00.000Z  2008-09-28  \n4              5  2009-07-13T03:35:00.000Z  2009-07-13  \n5              6  2010-06-04T18:45:00.000Z  2010-06-04  "
                    },
                    "execution_count": 28,
                    "metadata": {},
                    "output_type": "execute_result"
                }
            ]
        },
        {
            "metadata": {},
            "cell_type": "markdown",
            "source": "Finally lets construct our dataset using the data we have obtained. We we combine the columns into a dictionary.\n"
        },
        {
            "metadata": {},
            "cell_type": "code",
            "source": "launch_dict = {'FlightNumber': list(data['flight_number']),\n'Date': list(data['date']),\n'BoosterVersion':BoosterVersion,\n'PayloadMass':PayloadMass,\n'Orbit':Orbit,\n'LaunchSite':LaunchSite,\n'Outcome':Outcome,\n'Flights':Flights,\n'GridFins':GridFins,\n'Reused':Reused,\n'Legs':Legs,\n'LandingPad':LandingPad,\n'Block':Block,\n'ReusedCount':ReusedCount,\n'Serial':Serial,\n'Longitude': Longitude,\n'Latitude': Latitude}\n",
            "execution_count": 29,
            "outputs": []
        },
        {
            "metadata": {},
            "cell_type": "markdown",
            "source": "Then, we need to create a Pandas data frame from the dictionary launch_dict.\n"
        },
        {
            "metadata": {},
            "cell_type": "code",
            "source": "# Create a data from launch_dict\ndf=pd.DataFrame.from_dict(launch_dict, orient='index')",
            "execution_count": 30,
            "outputs": []
        },
        {
            "metadata": {},
            "cell_type": "markdown",
            "source": "Show the summary of the dataframe\n"
        },
        {
            "metadata": {},
            "cell_type": "code",
            "source": "# Show the head of the dataframe\ndf.head()",
            "execution_count": 31,
            "outputs": [
                {
                    "data": {
                        "text/html": "<div>\n<style scoped>\n    .dataframe tbody tr th:only-of-type {\n        vertical-align: middle;\n    }\n\n    .dataframe tbody tr th {\n        vertical-align: top;\n    }\n\n    .dataframe thead th {\n        text-align: right;\n    }\n</style>\n<table border=\"1\" class=\"dataframe\">\n  <thead>\n    <tr style=\"text-align: right;\">\n      <th></th>\n      <th>0</th>\n      <th>1</th>\n      <th>2</th>\n      <th>3</th>\n      <th>4</th>\n      <th>5</th>\n      <th>6</th>\n      <th>7</th>\n      <th>8</th>\n      <th>9</th>\n      <th>10</th>\n      <th>11</th>\n      <th>12</th>\n      <th>13</th>\n      <th>14</th>\n      <th>15</th>\n      <th>16</th>\n      <th>17</th>\n      <th>18</th>\n      <th>19</th>\n      <th>20</th>\n      <th>21</th>\n      <th>22</th>\n      <th>23</th>\n      <th>24</th>\n      <th>25</th>\n      <th>26</th>\n      <th>27</th>\n      <th>28</th>\n      <th>29</th>\n      <th>30</th>\n      <th>31</th>\n      <th>32</th>\n      <th>33</th>\n      <th>34</th>\n      <th>35</th>\n      <th>36</th>\n      <th>37</th>\n      <th>38</th>\n      <th>39</th>\n      <th>40</th>\n      <th>41</th>\n      <th>42</th>\n      <th>43</th>\n      <th>44</th>\n      <th>45</th>\n      <th>46</th>\n      <th>47</th>\n      <th>48</th>\n      <th>49</th>\n      <th>50</th>\n      <th>51</th>\n      <th>52</th>\n      <th>53</th>\n      <th>54</th>\n      <th>55</th>\n      <th>56</th>\n      <th>57</th>\n      <th>58</th>\n      <th>59</th>\n      <th>60</th>\n      <th>61</th>\n      <th>62</th>\n      <th>63</th>\n      <th>64</th>\n      <th>65</th>\n      <th>66</th>\n      <th>67</th>\n      <th>68</th>\n      <th>69</th>\n      <th>70</th>\n      <th>71</th>\n      <th>72</th>\n      <th>73</th>\n      <th>74</th>\n      <th>75</th>\n      <th>76</th>\n      <th>77</th>\n      <th>78</th>\n      <th>79</th>\n      <th>80</th>\n      <th>81</th>\n      <th>82</th>\n      <th>83</th>\n      <th>84</th>\n      <th>85</th>\n      <th>86</th>\n      <th>87</th>\n      <th>88</th>\n      <th>89</th>\n      <th>90</th>\n      <th>91</th>\n      <th>92</th>\n      <th>93</th>\n    </tr>\n  </thead>\n  <tbody>\n    <tr>\n      <th>FlightNumber</th>\n      <td>1</td>\n      <td>2</td>\n      <td>4</td>\n      <td>5</td>\n      <td>6</td>\n      <td>8</td>\n      <td>10</td>\n      <td>11</td>\n      <td>12</td>\n      <td>13</td>\n      <td>14</td>\n      <td>15</td>\n      <td>16</td>\n      <td>17</td>\n      <td>18</td>\n      <td>19</td>\n      <td>20</td>\n      <td>22</td>\n      <td>23</td>\n      <td>24</td>\n      <td>25</td>\n      <td>26</td>\n      <td>27</td>\n      <td>28</td>\n      <td>29</td>\n      <td>30</td>\n      <td>32</td>\n      <td>33</td>\n      <td>34</td>\n      <td>35</td>\n      <td>36</td>\n      <td>37</td>\n      <td>38</td>\n      <td>39</td>\n      <td>40</td>\n      <td>41</td>\n      <td>42</td>\n      <td>43</td>\n      <td>44</td>\n      <td>45</td>\n      <td>46</td>\n      <td>47</td>\n      <td>48</td>\n      <td>49</td>\n      <td>50</td>\n      <td>51</td>\n      <td>52</td>\n      <td>53</td>\n      <td>54</td>\n      <td>57</td>\n      <td>58</td>\n      <td>59</td>\n      <td>60</td>\n      <td>61</td>\n      <td>63</td>\n      <td>64</td>\n      <td>65</td>\n      <td>66</td>\n      <td>67</td>\n      <td>68</td>\n      <td>69</td>\n      <td>70</td>\n      <td>71</td>\n      <td>72</td>\n      <td>73</td>\n      <td>74</td>\n      <td>76</td>\n      <td>78</td>\n      <td>79</td>\n      <td>80</td>\n      <td>82</td>\n      <td>83</td>\n      <td>84</td>\n      <td>85</td>\n      <td>86</td>\n      <td>87</td>\n      <td>88</td>\n      <td>89</td>\n      <td>90</td>\n      <td>91</td>\n      <td>92</td>\n      <td>93</td>\n      <td>94</td>\n      <td>95</td>\n      <td>96</td>\n      <td>97</td>\n      <td>98</td>\n      <td>100</td>\n      <td>101</td>\n      <td>102</td>\n      <td>103</td>\n      <td>104</td>\n      <td>105</td>\n      <td>106</td>\n    </tr>\n    <tr>\n      <th>Date</th>\n      <td>2006-03-24</td>\n      <td>2007-03-21</td>\n      <td>2008-09-28</td>\n      <td>2009-07-13</td>\n      <td>2010-06-04</td>\n      <td>2012-05-22</td>\n      <td>2013-03-01</td>\n      <td>2013-09-29</td>\n      <td>2013-12-03</td>\n      <td>2014-01-06</td>\n      <td>2014-04-18</td>\n      <td>2014-07-14</td>\n      <td>2014-08-05</td>\n      <td>2014-09-07</td>\n      <td>2014-09-21</td>\n      <td>2015-01-10</td>\n      <td>2015-02-11</td>\n      <td>2015-04-14</td>\n      <td>2015-04-27</td>\n      <td>2015-06-28</td>\n      <td>2015-12-22</td>\n      <td>2016-01-17</td>\n      <td>2016-03-04</td>\n      <td>2016-04-08</td>\n      <td>2016-05-06</td>\n      <td>2016-05-27</td>\n      <td>2016-07-18</td>\n      <td>2016-08-14</td>\n      <td>2016-09-01</td>\n      <td>2017-01-14</td>\n      <td>2017-02-19</td>\n      <td>2017-03-16</td>\n      <td>2017-03-30</td>\n      <td>2017-05-01</td>\n      <td>2017-05-15</td>\n      <td>2017-06-03</td>\n      <td>2017-06-23</td>\n      <td>2017-06-25</td>\n      <td>2017-07-05</td>\n      <td>2017-08-14</td>\n      <td>2017-08-24</td>\n      <td>2017-09-07</td>\n      <td>2017-10-09</td>\n      <td>2017-10-11</td>\n      <td>2017-10-30</td>\n      <td>2017-12-15</td>\n      <td>2017-12-23</td>\n      <td>2018-01-08</td>\n      <td>2018-01-31</td>\n      <td>2018-03-06</td>\n      <td>2018-03-30</td>\n      <td>2018-04-02</td>\n      <td>2018-04-18</td>\n      <td>2018-05-11</td>\n      <td>2018-06-04</td>\n      <td>2018-06-29</td>\n      <td>2018-07-22</td>\n      <td>2018-07-25</td>\n      <td>2018-08-07</td>\n      <td>2018-09-10</td>\n      <td>2018-10-08</td>\n      <td>2018-11-15</td>\n      <td>2018-12-03</td>\n      <td>2018-12-05</td>\n      <td>2018-12-23</td>\n      <td>2019-01-11</td>\n      <td>2019-03-02</td>\n      <td>2019-05-04</td>\n      <td>2019-05-24</td>\n      <td>2019-06-12</td>\n      <td>2019-07-25</td>\n      <td>2019-08-06</td>\n      <td>2019-11-11</td>\n      <td>2019-12-05</td>\n      <td>2019-12-17</td>\n      <td>2020-01-07</td>\n      <td>2020-01-19</td>\n      <td>2020-01-29</td>\n      <td>2020-02-17</td>\n      <td>2020-03-07</td>\n      <td>2020-03-18</td>\n      <td>2020-04-22</td>\n      <td>2020-05-30</td>\n      <td>2020-06-04</td>\n      <td>2020-06-13</td>\n      <td>2020-06-30</td>\n      <td>2020-07-20</td>\n      <td>2020-08-18</td>\n      <td>2020-08-30</td>\n      <td>2020-09-03</td>\n      <td>2020-10-06</td>\n      <td>2020-10-18</td>\n      <td>2020-10-24</td>\n      <td>2020-11-05</td>\n    </tr>\n    <tr>\n      <th>BoosterVersion</th>\n      <td>Falcon 1</td>\n      <td>Falcon 1</td>\n      <td>Falcon 1</td>\n      <td>Falcon 1</td>\n      <td>Falcon 9</td>\n      <td>Falcon 9</td>\n      <td>Falcon 9</td>\n      <td>Falcon 9</td>\n      <td>Falcon 9</td>\n      <td>Falcon 9</td>\n      <td>Falcon 9</td>\n      <td>Falcon 9</td>\n      <td>Falcon 9</td>\n      <td>Falcon 9</td>\n      <td>Falcon 9</td>\n      <td>Falcon 9</td>\n      <td>Falcon 9</td>\n      <td>Falcon 9</td>\n      <td>Falcon 9</td>\n      <td>Falcon 9</td>\n      <td>Falcon 9</td>\n      <td>Falcon 9</td>\n      <td>Falcon 9</td>\n      <td>Falcon 9</td>\n      <td>Falcon 9</td>\n      <td>Falcon 9</td>\n      <td>Falcon 9</td>\n      <td>Falcon 9</td>\n      <td>Falcon 9</td>\n      <td>Falcon 9</td>\n      <td>Falcon 9</td>\n      <td>Falcon 9</td>\n      <td>Falcon 9</td>\n      <td>Falcon 9</td>\n      <td>Falcon 9</td>\n      <td>Falcon 9</td>\n      <td>Falcon 9</td>\n      <td>Falcon 9</td>\n      <td>Falcon 9</td>\n      <td>Falcon 9</td>\n      <td>Falcon 9</td>\n      <td>Falcon 9</td>\n      <td>Falcon 9</td>\n      <td>Falcon 9</td>\n      <td>Falcon 9</td>\n      <td>Falcon 9</td>\n      <td>Falcon 9</td>\n      <td>Falcon 9</td>\n      <td>Falcon 9</td>\n      <td>Falcon 9</td>\n      <td>Falcon 9</td>\n      <td>Falcon 9</td>\n      <td>Falcon 9</td>\n      <td>Falcon 9</td>\n      <td>Falcon 9</td>\n      <td>Falcon 9</td>\n      <td>Falcon 9</td>\n      <td>Falcon 9</td>\n      <td>Falcon 9</td>\n      <td>Falcon 9</td>\n      <td>Falcon 9</td>\n      <td>Falcon 9</td>\n      <td>Falcon 9</td>\n      <td>Falcon 9</td>\n      <td>Falcon 9</td>\n      <td>Falcon 9</td>\n      <td>Falcon 9</td>\n      <td>Falcon 9</td>\n      <td>Falcon 9</td>\n      <td>Falcon 9</td>\n      <td>Falcon 9</td>\n      <td>Falcon 9</td>\n      <td>Falcon 9</td>\n      <td>Falcon 9</td>\n      <td>Falcon 9</td>\n      <td>Falcon 9</td>\n      <td>Falcon 9</td>\n      <td>Falcon 9</td>\n      <td>Falcon 9</td>\n      <td>Falcon 9</td>\n      <td>Falcon 9</td>\n      <td>Falcon 9</td>\n      <td>Falcon 9</td>\n      <td>Falcon 9</td>\n      <td>Falcon 9</td>\n      <td>Falcon 9</td>\n      <td>Falcon 9</td>\n      <td>Falcon 9</td>\n      <td>Falcon 9</td>\n      <td>Falcon 9</td>\n      <td>Falcon 9</td>\n      <td>Falcon 9</td>\n      <td>Falcon 9</td>\n      <td>Falcon 9</td>\n    </tr>\n    <tr>\n      <th>PayloadMass</th>\n      <td>20</td>\n      <td>None</td>\n      <td>165</td>\n      <td>200</td>\n      <td>None</td>\n      <td>525</td>\n      <td>677</td>\n      <td>500</td>\n      <td>3170</td>\n      <td>3325</td>\n      <td>2296</td>\n      <td>1316</td>\n      <td>4535</td>\n      <td>4428</td>\n      <td>2216</td>\n      <td>2395</td>\n      <td>570</td>\n      <td>1898</td>\n      <td>4707</td>\n      <td>2477</td>\n      <td>2034</td>\n      <td>553</td>\n      <td>5271</td>\n      <td>3136</td>\n      <td>4696</td>\n      <td>3100</td>\n      <td>2257</td>\n      <td>4600</td>\n      <td>5500</td>\n      <td>9600</td>\n      <td>2490</td>\n      <td>5600</td>\n      <td>5300</td>\n      <td>None</td>\n      <td>6070</td>\n      <td>2708</td>\n      <td>3669</td>\n      <td>9600</td>\n      <td>6761</td>\n      <td>2910</td>\n      <td>475</td>\n      <td>4990</td>\n      <td>9600</td>\n      <td>5200</td>\n      <td>3700</td>\n      <td>2205</td>\n      <td>9600</td>\n      <td>None</td>\n      <td>4230</td>\n      <td>6092</td>\n      <td>9600</td>\n      <td>2760</td>\n      <td>350</td>\n      <td>3750</td>\n      <td>5383.85</td>\n      <td>2410</td>\n      <td>7076</td>\n      <td>9600</td>\n      <td>5800</td>\n      <td>7060</td>\n      <td>2800</td>\n      <td>3000</td>\n      <td>4000</td>\n      <td>2573</td>\n      <td>4400</td>\n      <td>9600</td>\n      <td>12259</td>\n      <td>2482</td>\n      <td>13200</td>\n      <td>1425</td>\n      <td>2227.7</td>\n      <td>6500</td>\n      <td>15600</td>\n      <td>5000</td>\n      <td>6800</td>\n      <td>15600</td>\n      <td>None</td>\n      <td>15600</td>\n      <td>15600</td>\n      <td>1977</td>\n      <td>15600</td>\n      <td>15600</td>\n      <td>9525</td>\n      <td>15600</td>\n      <td>15600</td>\n      <td>3880</td>\n      <td>None</td>\n      <td>15600</td>\n      <td>1600</td>\n      <td>15600</td>\n      <td>15600</td>\n      <td>15600</td>\n      <td>15600</td>\n      <td>3681</td>\n    </tr>\n    <tr>\n      <th>Orbit</th>\n      <td>LEO</td>\n      <td>LEO</td>\n      <td>LEO</td>\n      <td>LEO</td>\n      <td>LEO</td>\n      <td>LEO</td>\n      <td>ISS</td>\n      <td>PO</td>\n      <td>GTO</td>\n      <td>GTO</td>\n      <td>ISS</td>\n      <td>LEO</td>\n      <td>GTO</td>\n      <td>GTO</td>\n      <td>ISS</td>\n      <td>ISS</td>\n      <td>ES-L1</td>\n      <td>ISS</td>\n      <td>GTO</td>\n      <td>ISS</td>\n      <td>LEO</td>\n      <td>PO</td>\n      <td>GTO</td>\n      <td>ISS</td>\n      <td>GTO</td>\n      <td>GTO</td>\n      <td>ISS</td>\n      <td>GTO</td>\n      <td>GTO</td>\n      <td>PO</td>\n      <td>ISS</td>\n      <td>GTO</td>\n      <td>GTO</td>\n      <td>LEO</td>\n      <td>GTO</td>\n      <td>ISS</td>\n      <td>GTO</td>\n      <td>PO</td>\n      <td>GTO</td>\n      <td>ISS</td>\n      <td>SSO</td>\n      <td>LEO</td>\n      <td>PO</td>\n      <td>GTO</td>\n      <td>GTO</td>\n      <td>ISS</td>\n      <td>PO</td>\n      <td>LEO</td>\n      <td>GTO</td>\n      <td>GTO</td>\n      <td>PO</td>\n      <td>ISS</td>\n      <td>HEO</td>\n      <td>GTO</td>\n      <td>GTO</td>\n      <td>ISS</td>\n      <td>GTO</td>\n      <td>PO</td>\n      <td>GTO</td>\n      <td>GTO</td>\n      <td>SSO</td>\n      <td>GTO</td>\n      <td>SSO</td>\n      <td>ISS</td>\n      <td>MEO</td>\n      <td>PO</td>\n      <td>ISS</td>\n      <td>ISS</td>\n      <td>VLEO</td>\n      <td>SSO</td>\n      <td>ISS</td>\n      <td>GTO</td>\n      <td>VLEO</td>\n      <td>ISS</td>\n      <td>GTO</td>\n      <td>VLEO</td>\n      <td>SO</td>\n      <td>VLEO</td>\n      <td>VLEO</td>\n      <td>ISS</td>\n      <td>VLEO</td>\n      <td>VLEO</td>\n      <td>ISS</td>\n      <td>VLEO</td>\n      <td>VLEO</td>\n      <td>MEO</td>\n      <td>GEO</td>\n      <td>VLEO</td>\n      <td>SSO</td>\n      <td>VLEO</td>\n      <td>VLEO</td>\n      <td>VLEO</td>\n      <td>VLEO</td>\n      <td>MEO</td>\n    </tr>\n  </tbody>\n</table>\n</div>",
                        "text/plain": "                        0           1           2           3           4   \\\nFlightNumber             1           2           4           5           6   \nDate            2006-03-24  2007-03-21  2008-09-28  2009-07-13  2010-06-04   \nBoosterVersion    Falcon 1    Falcon 1    Falcon 1    Falcon 1    Falcon 9   \nPayloadMass             20        None         165         200        None   \nOrbit                  LEO         LEO         LEO         LEO         LEO   \n\n                        5           6           7           8           9   \\\nFlightNumber             8          10          11          12          13   \nDate            2012-05-22  2013-03-01  2013-09-29  2013-12-03  2014-01-06   \nBoosterVersion    Falcon 9    Falcon 9    Falcon 9    Falcon 9    Falcon 9   \nPayloadMass            525         677         500        3170        3325   \nOrbit                  LEO         ISS          PO         GTO         GTO   \n\n                        10          11          12          13          14  \\\nFlightNumber            14          15          16          17          18   \nDate            2014-04-18  2014-07-14  2014-08-05  2014-09-07  2014-09-21   \nBoosterVersion    Falcon 9    Falcon 9    Falcon 9    Falcon 9    Falcon 9   \nPayloadMass           2296        1316        4535        4428        2216   \nOrbit                  ISS         LEO         GTO         GTO         ISS   \n\n                        15          16          17          18          19  \\\nFlightNumber            19          20          22          23          24   \nDate            2015-01-10  2015-02-11  2015-04-14  2015-04-27  2015-06-28   \nBoosterVersion    Falcon 9    Falcon 9    Falcon 9    Falcon 9    Falcon 9   \nPayloadMass           2395         570        1898        4707        2477   \nOrbit                  ISS       ES-L1         ISS         GTO         ISS   \n\n                        20          21          22          23          24  \\\nFlightNumber            25          26          27          28          29   \nDate            2015-12-22  2016-01-17  2016-03-04  2016-04-08  2016-05-06   \nBoosterVersion    Falcon 9    Falcon 9    Falcon 9    Falcon 9    Falcon 9   \nPayloadMass           2034         553        5271        3136        4696   \nOrbit                  LEO          PO         GTO         ISS         GTO   \n\n                        25          26          27          28          29  \\\nFlightNumber            30          32          33          34          35   \nDate            2016-05-27  2016-07-18  2016-08-14  2016-09-01  2017-01-14   \nBoosterVersion    Falcon 9    Falcon 9    Falcon 9    Falcon 9    Falcon 9   \nPayloadMass           3100        2257        4600        5500        9600   \nOrbit                  GTO         ISS         GTO         GTO          PO   \n\n                        30          31          32          33          34  \\\nFlightNumber            36          37          38          39          40   \nDate            2017-02-19  2017-03-16  2017-03-30  2017-05-01  2017-05-15   \nBoosterVersion    Falcon 9    Falcon 9    Falcon 9    Falcon 9    Falcon 9   \nPayloadMass           2490        5600        5300        None        6070   \nOrbit                  ISS         GTO         GTO         LEO         GTO   \n\n                        35          36          37          38          39  \\\nFlightNumber            41          42          43          44          45   \nDate            2017-06-03  2017-06-23  2017-06-25  2017-07-05  2017-08-14   \nBoosterVersion    Falcon 9    Falcon 9    Falcon 9    Falcon 9    Falcon 9   \nPayloadMass           2708        3669        9600        6761        2910   \nOrbit                  ISS         GTO          PO         GTO         ISS   \n\n                        40          41          42          43          44  \\\nFlightNumber            46          47          48          49          50   \nDate            2017-08-24  2017-09-07  2017-10-09  2017-10-11  2017-10-30   \nBoosterVersion    Falcon 9    Falcon 9    Falcon 9    Falcon 9    Falcon 9   \nPayloadMass            475        4990        9600        5200        3700   \nOrbit                  SSO         LEO          PO         GTO         GTO   \n\n                        45          46          47          48          49  \\\nFlightNumber            51          52          53          54          57   \nDate            2017-12-15  2017-12-23  2018-01-08  2018-01-31  2018-03-06   \nBoosterVersion    Falcon 9    Falcon 9    Falcon 9    Falcon 9    Falcon 9   \nPayloadMass           2205        9600        None        4230        6092   \nOrbit                  ISS          PO         LEO         GTO         GTO   \n\n                        50          51          52          53          54  \\\nFlightNumber            58          59          60          61          63   \nDate            2018-03-30  2018-04-02  2018-04-18  2018-05-11  2018-06-04   \nBoosterVersion    Falcon 9    Falcon 9    Falcon 9    Falcon 9    Falcon 9   \nPayloadMass           9600        2760         350        3750     5383.85   \nOrbit                   PO         ISS         HEO         GTO         GTO   \n\n                        55          56          57          58          59  \\\nFlightNumber            64          65          66          67          68   \nDate            2018-06-29  2018-07-22  2018-07-25  2018-08-07  2018-09-10   \nBoosterVersion    Falcon 9    Falcon 9    Falcon 9    Falcon 9    Falcon 9   \nPayloadMass           2410        7076        9600        5800        7060   \nOrbit                  ISS         GTO          PO         GTO         GTO   \n\n                        60          61          62          63          64  \\\nFlightNumber            69          70          71          72          73   \nDate            2018-10-08  2018-11-15  2018-12-03  2018-12-05  2018-12-23   \nBoosterVersion    Falcon 9    Falcon 9    Falcon 9    Falcon 9    Falcon 9   \nPayloadMass           2800        3000        4000        2573        4400   \nOrbit                  SSO         GTO         SSO         ISS         MEO   \n\n                        65          66          67          68          69  \\\nFlightNumber            74          76          78          79          80   \nDate            2019-01-11  2019-03-02  2019-05-04  2019-05-24  2019-06-12   \nBoosterVersion    Falcon 9    Falcon 9    Falcon 9    Falcon 9    Falcon 9   \nPayloadMass           9600       12259        2482       13200        1425   \nOrbit                   PO         ISS         ISS        VLEO         SSO   \n\n                        70          71          72          73          74  \\\nFlightNumber            82          83          84          85          86   \nDate            2019-07-25  2019-08-06  2019-11-11  2019-12-05  2019-12-17   \nBoosterVersion    Falcon 9    Falcon 9    Falcon 9    Falcon 9    Falcon 9   \nPayloadMass         2227.7        6500       15600        5000        6800   \nOrbit                  ISS         GTO        VLEO         ISS         GTO   \n\n                        75          76          77          78          79  \\\nFlightNumber            87          88          89          90          91   \nDate            2020-01-07  2020-01-19  2020-01-29  2020-02-17  2020-03-07   \nBoosterVersion    Falcon 9    Falcon 9    Falcon 9    Falcon 9    Falcon 9   \nPayloadMass          15600        None       15600       15600        1977   \nOrbit                 VLEO          SO        VLEO        VLEO         ISS   \n\n                        80          81          82          83          84  \\\nFlightNumber            92          93          94          95          96   \nDate            2020-03-18  2020-04-22  2020-05-30  2020-06-04  2020-06-13   \nBoosterVersion    Falcon 9    Falcon 9    Falcon 9    Falcon 9    Falcon 9   \nPayloadMass          15600       15600        9525       15600       15600   \nOrbit                 VLEO        VLEO         ISS        VLEO        VLEO   \n\n                        85          86          87          88          89  \\\nFlightNumber            97          98         100         101         102   \nDate            2020-06-30  2020-07-20  2020-08-18  2020-08-30  2020-09-03   \nBoosterVersion    Falcon 9    Falcon 9    Falcon 9    Falcon 9    Falcon 9   \nPayloadMass           3880        None       15600        1600       15600   \nOrbit                  MEO         GEO        VLEO         SSO        VLEO   \n\n                        90          91          92          93  \nFlightNumber           103         104         105         106  \nDate            2020-10-06  2020-10-18  2020-10-24  2020-11-05  \nBoosterVersion    Falcon 9    Falcon 9    Falcon 9    Falcon 9  \nPayloadMass          15600       15600       15600        3681  \nOrbit                 VLEO        VLEO        VLEO         MEO  "
                    },
                    "execution_count": 31,
                    "metadata": {},
                    "output_type": "execute_result"
                }
            ]
        },
        {
            "metadata": {},
            "cell_type": "code",
            "source": "df = df.transpose()",
            "execution_count": 32,
            "outputs": []
        },
        {
            "metadata": {},
            "cell_type": "code",
            "source": "df.isnull().sum()",
            "execution_count": 34,
            "outputs": [
                {
                    "data": {
                        "text/plain": "FlightNumber       0\nDate               0\nBoosterVersion     0\nPayloadMass        6\nOrbit              0\nLaunchSite         0\nOutcome            0\nFlights            0\nGridFins           0\nReused             0\nLegs               0\nLandingPad        30\nBlock              4\nReusedCount        0\nSerial             0\nLongitude          0\nLatitude           0\ndtype: int64"
                    },
                    "execution_count": 34,
                    "metadata": {},
                    "output_type": "execute_result"
                }
            ]
        },
        {
            "metadata": {},
            "cell_type": "markdown",
            "source": "### Task 2: Filter the dataframe to only include `Falcon 9` launches\n"
        },
        {
            "metadata": {},
            "cell_type": "markdown",
            "source": "Finally we will remove the Falcon 1 launches keeping only the Falcon 9 launches. Filter the data dataframe using the <code>BoosterVersion</code> column to only keep the Falcon 9 launches. Save the filtered data to a new dataframe called <code>data_falcon9</code>.\n"
        },
        {
            "metadata": {},
            "cell_type": "code",
            "source": "# Hint data['BoosterVersion']!='Falcon 1'\ndf[['BoosterVersion']].value_counts()",
            "execution_count": 35,
            "outputs": [
                {
                    "data": {
                        "text/plain": "BoosterVersion\nFalcon 9          90\nFalcon 1           4\ndtype: int64"
                    },
                    "execution_count": 35,
                    "metadata": {},
                    "output_type": "execute_result"
                }
            ]
        },
        {
            "metadata": {},
            "cell_type": "code",
            "source": "data_falcon9=df[df['BoosterVersion']!='Falcon 1']",
            "execution_count": 36,
            "outputs": []
        },
        {
            "metadata": {},
            "cell_type": "code",
            "source": "data_falcon9.shape",
            "execution_count": 37,
            "outputs": [
                {
                    "data": {
                        "text/plain": "(90, 17)"
                    },
                    "execution_count": 37,
                    "metadata": {},
                    "output_type": "execute_result"
                }
            ]
        },
        {
            "metadata": {},
            "cell_type": "code",
            "source": "data_falcon9.head()",
            "execution_count": 38,
            "outputs": [
                {
                    "data": {
                        "text/html": "<div>\n<style scoped>\n    .dataframe tbody tr th:only-of-type {\n        vertical-align: middle;\n    }\n\n    .dataframe tbody tr th {\n        vertical-align: top;\n    }\n\n    .dataframe thead th {\n        text-align: right;\n    }\n</style>\n<table border=\"1\" class=\"dataframe\">\n  <thead>\n    <tr style=\"text-align: right;\">\n      <th></th>\n      <th>FlightNumber</th>\n      <th>Date</th>\n      <th>BoosterVersion</th>\n      <th>PayloadMass</th>\n      <th>Orbit</th>\n      <th>LaunchSite</th>\n      <th>Outcome</th>\n      <th>Flights</th>\n      <th>GridFins</th>\n      <th>Reused</th>\n      <th>Legs</th>\n      <th>LandingPad</th>\n      <th>Block</th>\n      <th>ReusedCount</th>\n      <th>Serial</th>\n      <th>Longitude</th>\n      <th>Latitude</th>\n    </tr>\n  </thead>\n  <tbody>\n    <tr>\n      <th>4</th>\n      <td>6</td>\n      <td>2010-06-04</td>\n      <td>Falcon 9</td>\n      <td>None</td>\n      <td>LEO</td>\n      <td>CCSFS SLC 40</td>\n      <td>None None</td>\n      <td>1</td>\n      <td>False</td>\n      <td>False</td>\n      <td>False</td>\n      <td>None</td>\n      <td>1</td>\n      <td>0</td>\n      <td>B0003</td>\n      <td>-80.577366</td>\n      <td>28.561857</td>\n    </tr>\n    <tr>\n      <th>5</th>\n      <td>8</td>\n      <td>2012-05-22</td>\n      <td>Falcon 9</td>\n      <td>525</td>\n      <td>LEO</td>\n      <td>CCSFS SLC 40</td>\n      <td>None None</td>\n      <td>1</td>\n      <td>False</td>\n      <td>False</td>\n      <td>False</td>\n      <td>None</td>\n      <td>1</td>\n      <td>0</td>\n      <td>B0005</td>\n      <td>-80.577366</td>\n      <td>28.561857</td>\n    </tr>\n    <tr>\n      <th>6</th>\n      <td>10</td>\n      <td>2013-03-01</td>\n      <td>Falcon 9</td>\n      <td>677</td>\n      <td>ISS</td>\n      <td>CCSFS SLC 40</td>\n      <td>None None</td>\n      <td>1</td>\n      <td>False</td>\n      <td>False</td>\n      <td>False</td>\n      <td>None</td>\n      <td>1</td>\n      <td>0</td>\n      <td>B0007</td>\n      <td>-80.577366</td>\n      <td>28.561857</td>\n    </tr>\n    <tr>\n      <th>7</th>\n      <td>11</td>\n      <td>2013-09-29</td>\n      <td>Falcon 9</td>\n      <td>500</td>\n      <td>PO</td>\n      <td>VAFB SLC 4E</td>\n      <td>False Ocean</td>\n      <td>1</td>\n      <td>False</td>\n      <td>False</td>\n      <td>False</td>\n      <td>None</td>\n      <td>1</td>\n      <td>0</td>\n      <td>B1003</td>\n      <td>-120.610829</td>\n      <td>34.632093</td>\n    </tr>\n    <tr>\n      <th>8</th>\n      <td>12</td>\n      <td>2013-12-03</td>\n      <td>Falcon 9</td>\n      <td>3170</td>\n      <td>GTO</td>\n      <td>CCSFS SLC 40</td>\n      <td>None None</td>\n      <td>1</td>\n      <td>False</td>\n      <td>False</td>\n      <td>False</td>\n      <td>None</td>\n      <td>1</td>\n      <td>0</td>\n      <td>B1004</td>\n      <td>-80.577366</td>\n      <td>28.561857</td>\n    </tr>\n  </tbody>\n</table>\n</div>",
                        "text/plain": "  FlightNumber        Date BoosterVersion PayloadMass Orbit    LaunchSite  \\\n4            6  2010-06-04       Falcon 9        None   LEO  CCSFS SLC 40   \n5            8  2012-05-22       Falcon 9         525   LEO  CCSFS SLC 40   \n6           10  2013-03-01       Falcon 9         677   ISS  CCSFS SLC 40   \n7           11  2013-09-29       Falcon 9         500    PO   VAFB SLC 4E   \n8           12  2013-12-03       Falcon 9        3170   GTO  CCSFS SLC 40   \n\n       Outcome Flights GridFins Reused   Legs LandingPad Block ReusedCount  \\\n4    None None       1    False  False  False       None     1           0   \n5    None None       1    False  False  False       None     1           0   \n6    None None       1    False  False  False       None     1           0   \n7  False Ocean       1    False  False  False       None     1           0   \n8    None None       1    False  False  False       None     1           0   \n\n  Serial   Longitude   Latitude  \n4  B0003  -80.577366  28.561857  \n5  B0005  -80.577366  28.561857  \n6  B0007  -80.577366  28.561857  \n7  B1003 -120.610829  34.632093  \n8  B1004  -80.577366  28.561857  "
                    },
                    "execution_count": 38,
                    "metadata": {},
                    "output_type": "execute_result"
                }
            ]
        },
        {
            "metadata": {},
            "cell_type": "markdown",
            "source": "Now that we have removed some values we should reset the FlgihtNumber column\n"
        },
        {
            "metadata": {},
            "cell_type": "code",
            "source": "data_falcon9.loc[:,'FlightNumber'] = list(range(1, data_falcon9.shape[0]+1))\ndata_falcon9",
            "execution_count": 39,
            "outputs": [
                {
                    "name": "stderr",
                    "output_type": "stream",
                    "text": "C:\\Users\\80302017\\Anaconda3\\lib\\site-packages\\pandas\\core\\indexing.py:1951: SettingWithCopyWarning: \nA value is trying to be set on a copy of a slice from a DataFrame.\nTry using .loc[row_indexer,col_indexer] = value instead\n\nSee the caveats in the documentation: https://pandas.pydata.org/pandas-docs/stable/user_guide/indexing.html#returning-a-view-versus-a-copy\n  self.obj[selected_item_labels] = value\n"
                },
                {
                    "data": {
                        "text/html": "<div>\n<style scoped>\n    .dataframe tbody tr th:only-of-type {\n        vertical-align: middle;\n    }\n\n    .dataframe tbody tr th {\n        vertical-align: top;\n    }\n\n    .dataframe thead th {\n        text-align: right;\n    }\n</style>\n<table border=\"1\" class=\"dataframe\">\n  <thead>\n    <tr style=\"text-align: right;\">\n      <th></th>\n      <th>FlightNumber</th>\n      <th>Date</th>\n      <th>BoosterVersion</th>\n      <th>PayloadMass</th>\n      <th>Orbit</th>\n      <th>LaunchSite</th>\n      <th>Outcome</th>\n      <th>Flights</th>\n      <th>GridFins</th>\n      <th>Reused</th>\n      <th>Legs</th>\n      <th>LandingPad</th>\n      <th>Block</th>\n      <th>ReusedCount</th>\n      <th>Serial</th>\n      <th>Longitude</th>\n      <th>Latitude</th>\n    </tr>\n  </thead>\n  <tbody>\n    <tr>\n      <th>4</th>\n      <td>1</td>\n      <td>2010-06-04</td>\n      <td>Falcon 9</td>\n      <td>None</td>\n      <td>LEO</td>\n      <td>CCSFS SLC 40</td>\n      <td>None None</td>\n      <td>1</td>\n      <td>False</td>\n      <td>False</td>\n      <td>False</td>\n      <td>None</td>\n      <td>1</td>\n      <td>0</td>\n      <td>B0003</td>\n      <td>-80.577366</td>\n      <td>28.561857</td>\n    </tr>\n    <tr>\n      <th>5</th>\n      <td>2</td>\n      <td>2012-05-22</td>\n      <td>Falcon 9</td>\n      <td>525</td>\n      <td>LEO</td>\n      <td>CCSFS SLC 40</td>\n      <td>None None</td>\n      <td>1</td>\n      <td>False</td>\n      <td>False</td>\n      <td>False</td>\n      <td>None</td>\n      <td>1</td>\n      <td>0</td>\n      <td>B0005</td>\n      <td>-80.577366</td>\n      <td>28.561857</td>\n    </tr>\n    <tr>\n      <th>6</th>\n      <td>3</td>\n      <td>2013-03-01</td>\n      <td>Falcon 9</td>\n      <td>677</td>\n      <td>ISS</td>\n      <td>CCSFS SLC 40</td>\n      <td>None None</td>\n      <td>1</td>\n      <td>False</td>\n      <td>False</td>\n      <td>False</td>\n      <td>None</td>\n      <td>1</td>\n      <td>0</td>\n      <td>B0007</td>\n      <td>-80.577366</td>\n      <td>28.561857</td>\n    </tr>\n    <tr>\n      <th>7</th>\n      <td>4</td>\n      <td>2013-09-29</td>\n      <td>Falcon 9</td>\n      <td>500</td>\n      <td>PO</td>\n      <td>VAFB SLC 4E</td>\n      <td>False Ocean</td>\n      <td>1</td>\n      <td>False</td>\n      <td>False</td>\n      <td>False</td>\n      <td>None</td>\n      <td>1</td>\n      <td>0</td>\n      <td>B1003</td>\n      <td>-120.610829</td>\n      <td>34.632093</td>\n    </tr>\n    <tr>\n      <th>8</th>\n      <td>5</td>\n      <td>2013-12-03</td>\n      <td>Falcon 9</td>\n      <td>3170</td>\n      <td>GTO</td>\n      <td>CCSFS SLC 40</td>\n      <td>None None</td>\n      <td>1</td>\n      <td>False</td>\n      <td>False</td>\n      <td>False</td>\n      <td>None</td>\n      <td>1</td>\n      <td>0</td>\n      <td>B1004</td>\n      <td>-80.577366</td>\n      <td>28.561857</td>\n    </tr>\n    <tr>\n      <th>...</th>\n      <td>...</td>\n      <td>...</td>\n      <td>...</td>\n      <td>...</td>\n      <td>...</td>\n      <td>...</td>\n      <td>...</td>\n      <td>...</td>\n      <td>...</td>\n      <td>...</td>\n      <td>...</td>\n      <td>...</td>\n      <td>...</td>\n      <td>...</td>\n      <td>...</td>\n      <td>...</td>\n      <td>...</td>\n    </tr>\n    <tr>\n      <th>89</th>\n      <td>86</td>\n      <td>2020-09-03</td>\n      <td>Falcon 9</td>\n      <td>15600</td>\n      <td>VLEO</td>\n      <td>KSC LC 39A</td>\n      <td>True ASDS</td>\n      <td>2</td>\n      <td>True</td>\n      <td>True</td>\n      <td>True</td>\n      <td>5e9e3032383ecb6bb234e7ca</td>\n      <td>5</td>\n      <td>12</td>\n      <td>B1060</td>\n      <td>-80.603956</td>\n      <td>28.608058</td>\n    </tr>\n    <tr>\n      <th>90</th>\n      <td>87</td>\n      <td>2020-10-06</td>\n      <td>Falcon 9</td>\n      <td>15600</td>\n      <td>VLEO</td>\n      <td>KSC LC 39A</td>\n      <td>True ASDS</td>\n      <td>3</td>\n      <td>True</td>\n      <td>True</td>\n      <td>True</td>\n      <td>5e9e3032383ecb6bb234e7ca</td>\n      <td>5</td>\n      <td>12</td>\n      <td>B1058</td>\n      <td>-80.603956</td>\n      <td>28.608058</td>\n    </tr>\n    <tr>\n      <th>91</th>\n      <td>88</td>\n      <td>2020-10-18</td>\n      <td>Falcon 9</td>\n      <td>15600</td>\n      <td>VLEO</td>\n      <td>KSC LC 39A</td>\n      <td>True ASDS</td>\n      <td>6</td>\n      <td>True</td>\n      <td>True</td>\n      <td>True</td>\n      <td>5e9e3032383ecb6bb234e7ca</td>\n      <td>5</td>\n      <td>11</td>\n      <td>B1051</td>\n      <td>-80.603956</td>\n      <td>28.608058</td>\n    </tr>\n    <tr>\n      <th>92</th>\n      <td>89</td>\n      <td>2020-10-24</td>\n      <td>Falcon 9</td>\n      <td>15600</td>\n      <td>VLEO</td>\n      <td>CCSFS SLC 40</td>\n      <td>True ASDS</td>\n      <td>3</td>\n      <td>True</td>\n      <td>True</td>\n      <td>True</td>\n      <td>5e9e3033383ecbb9e534e7cc</td>\n      <td>5</td>\n      <td>12</td>\n      <td>B1060</td>\n      <td>-80.577366</td>\n      <td>28.561857</td>\n    </tr>\n    <tr>\n      <th>93</th>\n      <td>90</td>\n      <td>2020-11-05</td>\n      <td>Falcon 9</td>\n      <td>3681</td>\n      <td>MEO</td>\n      <td>CCSFS SLC 40</td>\n      <td>True ASDS</td>\n      <td>1</td>\n      <td>True</td>\n      <td>False</td>\n      <td>True</td>\n      <td>5e9e3032383ecb6bb234e7ca</td>\n      <td>5</td>\n      <td>6</td>\n      <td>B1062</td>\n      <td>-80.577366</td>\n      <td>28.561857</td>\n    </tr>\n  </tbody>\n</table>\n<p>90 rows \u00d7 17 columns</p>\n</div>",
                        "text/plain": "    FlightNumber        Date BoosterVersion PayloadMass Orbit    LaunchSite  \\\n4              1  2010-06-04       Falcon 9        None   LEO  CCSFS SLC 40   \n5              2  2012-05-22       Falcon 9         525   LEO  CCSFS SLC 40   \n6              3  2013-03-01       Falcon 9         677   ISS  CCSFS SLC 40   \n7              4  2013-09-29       Falcon 9         500    PO   VAFB SLC 4E   \n8              5  2013-12-03       Falcon 9        3170   GTO  CCSFS SLC 40   \n..           ...         ...            ...         ...   ...           ...   \n89            86  2020-09-03       Falcon 9       15600  VLEO    KSC LC 39A   \n90            87  2020-10-06       Falcon 9       15600  VLEO    KSC LC 39A   \n91            88  2020-10-18       Falcon 9       15600  VLEO    KSC LC 39A   \n92            89  2020-10-24       Falcon 9       15600  VLEO  CCSFS SLC 40   \n93            90  2020-11-05       Falcon 9        3681   MEO  CCSFS SLC 40   \n\n        Outcome Flights GridFins Reused   Legs                LandingPad  \\\n4     None None       1    False  False  False                      None   \n5     None None       1    False  False  False                      None   \n6     None None       1    False  False  False                      None   \n7   False Ocean       1    False  False  False                      None   \n8     None None       1    False  False  False                      None   \n..          ...     ...      ...    ...    ...                       ...   \n89    True ASDS       2     True   True   True  5e9e3032383ecb6bb234e7ca   \n90    True ASDS       3     True   True   True  5e9e3032383ecb6bb234e7ca   \n91    True ASDS       6     True   True   True  5e9e3032383ecb6bb234e7ca   \n92    True ASDS       3     True   True   True  5e9e3033383ecbb9e534e7cc   \n93    True ASDS       1     True  False   True  5e9e3032383ecb6bb234e7ca   \n\n   Block ReusedCount Serial   Longitude   Latitude  \n4      1           0  B0003  -80.577366  28.561857  \n5      1           0  B0005  -80.577366  28.561857  \n6      1           0  B0007  -80.577366  28.561857  \n7      1           0  B1003 -120.610829  34.632093  \n8      1           0  B1004  -80.577366  28.561857  \n..   ...         ...    ...         ...        ...  \n89     5          12  B1060  -80.603956  28.608058  \n90     5          12  B1058  -80.603956  28.608058  \n91     5          11  B1051  -80.603956  28.608058  \n92     5          12  B1060  -80.577366  28.561857  \n93     5           6  B1062  -80.577366  28.561857  \n\n[90 rows x 17 columns]"
                    },
                    "execution_count": 39,
                    "metadata": {},
                    "output_type": "execute_result"
                }
            ]
        },
        {
            "metadata": {},
            "cell_type": "markdown",
            "source": "## Data Wrangling\n"
        },
        {
            "metadata": {},
            "cell_type": "markdown",
            "source": "We can see below that some of the rows are missing values in our dataset.\n"
        },
        {
            "metadata": {},
            "cell_type": "code",
            "source": "data_falcon9.isnull().sum()",
            "execution_count": 40,
            "outputs": [
                {
                    "data": {
                        "text/plain": "FlightNumber       0\nDate               0\nBoosterVersion     0\nPayloadMass        5\nOrbit              0\nLaunchSite         0\nOutcome            0\nFlights            0\nGridFins           0\nReused             0\nLegs               0\nLandingPad        26\nBlock              0\nReusedCount        0\nSerial             0\nLongitude          0\nLatitude           0\ndtype: int64"
                    },
                    "execution_count": 40,
                    "metadata": {},
                    "output_type": "execute_result"
                }
            ]
        },
        {
            "metadata": {},
            "cell_type": "markdown",
            "source": "Before we can continue we must deal with these missing values. The <code>LandingPad</code> column will retain None values to represent when landing pads were not used.\n"
        },
        {
            "metadata": {},
            "cell_type": "markdown",
            "source": "### Task 3: Dealing with Missing Values\n"
        },
        {
            "metadata": {},
            "cell_type": "markdown",
            "source": "Calculate below the mean for the <code>PayloadMass</code> using the <code>.mean()</code>. Then use the mean and the <code>.replace()</code> function to replace `np.nan` values in the data with the mean you calculated.\n"
        },
        {
            "metadata": {},
            "cell_type": "code",
            "source": "# Calculate the mean value of PayloadMass column\npayload_mass_mean = data_falcon9['PayloadMass'].mean()\npayload_mass_mean\n# Replace the np.nan values with its mean value\ndata_falcon9['PayloadMass'].fillna(value=payload_mass_mean, inplace=True)",
            "execution_count": 41,
            "outputs": [
                {
                    "name": "stderr",
                    "output_type": "stream",
                    "text": "C:\\Users\\80302017\\Anaconda3\\lib\\site-packages\\pandas\\core\\generic.py:6392: SettingWithCopyWarning: \nA value is trying to be set on a copy of a slice from a DataFrame\n\nSee the caveats in the documentation: https://pandas.pydata.org/pandas-docs/stable/user_guide/indexing.html#returning-a-view-versus-a-copy\n  return self._update_inplace(result)\n"
                }
            ]
        },
        {
            "metadata": {},
            "cell_type": "code",
            "source": "data_falcon9.isnull().sum()",
            "execution_count": 42,
            "outputs": [
                {
                    "data": {
                        "text/plain": "FlightNumber       0\nDate               0\nBoosterVersion     0\nPayloadMass        0\nOrbit              0\nLaunchSite         0\nOutcome            0\nFlights            0\nGridFins           0\nReused             0\nLegs               0\nLandingPad        26\nBlock              0\nReusedCount        0\nSerial             0\nLongitude          0\nLatitude           0\ndtype: int64"
                    },
                    "execution_count": 42,
                    "metadata": {},
                    "output_type": "execute_result"
                }
            ]
        },
        {
            "metadata": {},
            "cell_type": "markdown",
            "source": "You should see the number of missing values of the <code>PayLoadMass</code> change to zero.\n"
        },
        {
            "metadata": {},
            "cell_type": "markdown",
            "source": "Now we should have no missing values in our dataset except for in <code>LandingPad</code>.\n"
        },
        {
            "metadata": {},
            "cell_type": "markdown",
            "source": "We can now export it to a <b>CSV</b> for the next section,but to make the answers consistent, in the next lab we will provide data in a pre-selected date range.\n"
        },
        {
            "metadata": {},
            "cell_type": "markdown",
            "source": "<code>data_falcon9.to_csv('dataset_part\\_1.csv', index=False)</code>"
        },
        {
            "metadata": {},
            "cell_type": "code",
            "source": "data_falcon9.to_csv('dataset_part_1.csv', index=False)",
            "execution_count": 43,
            "outputs": []
        },
        {
            "metadata": {},
            "cell_type": "markdown",
            "source": "## Authors\n"
        },
        {
            "metadata": {},
            "cell_type": "markdown",
            "source": "<a href=\"https://www.linkedin.com/in/joseph-s-50398b136/?utm_medium=Exinfluencer&utm_source=Exinfluencer&utm_content=000026UJ&utm_term=10006555&utm_id=NA-SkillsNetwork-Channel-SkillsNetworkCoursesIBMDS0321ENSkillsNetwork26802033-2022-01-01\">Joseph Santarcangelo</a> has a PhD in Electrical Engineering, his research focused on using machine learning, signal processing, and computer vision to determine how videos impact human cognition. Joseph has been working for IBM since he completed his PhD.\n"
        },
        {
            "metadata": {},
            "cell_type": "markdown",
            "source": "## Change Log\n"
        },
        {
            "metadata": {},
            "cell_type": "markdown",
            "source": "| Date (YYYY-MM-DD) | Version | Changed By | Change Description                  |\n| ----------------- | ------- | ---------- | ----------------------------------- |\n| 2020-09-20        | 1.1     | Joseph     | get result each time you run        |\n| 2020-09-20        | 1.1     | Azim       | Created Part 1 Lab using SpaceX API |\n| 2020-09-20        | 1.0     | Joseph     | Modified Multiple Areas             |\n"
        },
        {
            "metadata": {},
            "cell_type": "markdown",
            "source": "Copyright \u00a9 2021 IBM Corporation. All rights reserved.\n"
        }
    ],
    "metadata": {
        "kernelspec": {
            "name": "python3",
            "display_name": "Python 3.9",
            "language": "python"
        },
        "language_info": {
            "name": "python",
            "version": "3.9.12",
            "mimetype": "text/x-python",
            "codemirror_mode": {
                "name": "ipython",
                "version": 3
            },
            "pygments_lexer": "ipython3",
            "nbconvert_exporter": "python",
            "file_extension": ".py"
        }
    },
    "nbformat": 4,
    "nbformat_minor": 4
}