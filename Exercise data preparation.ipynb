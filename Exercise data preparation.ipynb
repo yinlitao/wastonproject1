{
    "cells": [
        {
            "metadata": {},
            "cell_type": "code",
            "source": "import pandas as pd\npd.set_option('display.max_columns',None)\nimport numpy as np\nimport re\n",
            "execution_count": null,
            "outputs": []
        },
        {
            "metadata": {},
            "cell_type": "code",
            "source": "import pip",
            "execution_count": null,
            "outputs": []
        },
        {
            "metadata": {
                "scrolled": true
            },
            "cell_type": "code",
            "source": "!pip install 'skillsnetwork'\nimport skillsnetwork\n\nawait skillsnetwork.download_dataset(\n    \"https://cf-courses-data.s3.us.cloud-object-storage.appdomain.cloud/IBMDeveloperSkillsNetwork-DS0103EN-SkillsNetwork/labs/Module%202/recipes.csv\"\n    ,\"recipes.csv\")\nrecipes=pd.read_csv(\"recipes.csv\")\n\nprint(\"data read into dataframe\")",
            "execution_count": null,
            "outputs": []
        },
        {
            "metadata": {},
            "cell_type": "code",
            "source": "recipes.head()",
            "execution_count": null,
            "outputs": []
        },
        {
            "metadata": {},
            "cell_type": "code",
            "source": "recipes.shape",
            "execution_count": null,
            "outputs": []
        },
        {
            "metadata": {},
            "cell_type": "code",
            "source": "ingredients=list(recipes.columns.values)",
            "execution_count": null,
            "outputs": []
        },
        {
            "metadata": {},
            "cell_type": "code",
            "source": "ingredients",
            "execution_count": null,
            "outputs": []
        },
        {
            "metadata": {},
            "cell_type": "code",
            "source": "print([match.group(0) for ingredient in ingredients for match in [(re.compile(\".*(rice).*\")).search(ingredient)] if match])\nprint([match.group(0) for ingredient in ingredients for match in [(re.compile(\".*(wasabi).*\")).search(ingredient)] if match])\nprint([match.group(0) for ingredient in ingredients for match in [(re.compile(\".*(soy).*\")).search(ingredient)] if match])",
            "execution_count": null,
            "outputs": []
        },
        {
            "metadata": {},
            "cell_type": "code",
            "source": "recipes[\"country\"].value_counts()",
            "execution_count": null,
            "outputs": []
        },
        {
            "metadata": {},
            "cell_type": "code",
            "source": "column_names=recipes.columns.values\ncolumn_names[0]=\"cuisine\"\nrecipes.columns=column_names\n\nrecipes.columns",
            "execution_count": null,
            "outputs": []
        },
        {
            "metadata": {},
            "cell_type": "code",
            "source": "recipes['cuisine'] = recipes[\"cuisine\"].str.lower()\nrecipes",
            "execution_count": null,
            "outputs": []
        },
        {
            "metadata": {},
            "cell_type": "code",
            "source": "recipes_counts = recipes['cuisine'].value_counts()\ncuisines_indices = recipes_counts> 50\n\ncuisines_indices\n\ncuisines_to_keep = list(np.array(recipes_counts.index.values)[np.array(cuisines_indices)])",
            "execution_count": null,
            "outputs": []
        },
        {
            "metadata": {},
            "cell_type": "code",
            "source": "rows_before = recipes.shape[0] # number of rows of original dataframe\nprint(\"Number of rows of original dataframe is {}.\".format(rows_before))\n\nrecipes = recipes.loc[recipes['cuisine'].isin(cuisines_to_keep)]\n\nrows_after = recipes.shape[0] # number of rows of processed dataframe\nprint(\"Number of rows of processed dataframe is {}.\".format(rows_after))\n\nprint(\"{} rows removed!\".format(rows_before - rows_after))",
            "execution_count": null,
            "outputs": []
        },
        {
            "metadata": {},
            "cell_type": "code",
            "source": "recipes = recipes.replace(to_replace=\"Yes\", value=1)\nrecipes = recipes.replace(to_replace=\"No\", value=0)\nrecipes.head()",
            "execution_count": null,
            "outputs": []
        },
        {
            "metadata": {},
            "cell_type": "code",
            "source": "check_recipes = recipes.loc[\n    (recipes[\"rice\"] == 1) &\n    (recipes[\"soy_sauce\"] == 1) &\n    (recipes[\"wasabi\"] == 1) &\n    (recipes[\"seaweed\"] == 1)\n]\ncheck_recipes",
            "execution_count": null,
            "outputs": []
        },
        {
            "metadata": {},
            "cell_type": "code",
            "source": "",
            "execution_count": null,
            "outputs": []
        }
    ],
    "metadata": {
        "kernelspec": {
            "name": "python3",
            "display_name": "Python 3.9",
            "language": "python"
        },
        "language_info": {
            "name": "python",
            "version": "3.9.12",
            "mimetype": "text/x-python",
            "codemirror_mode": {
                "name": "ipython",
                "version": 3
            },
            "pygments_lexer": "ipython3",
            "nbconvert_exporter": "python",
            "file_extension": ".py"
        }
    },
    "nbformat": 4,
    "nbformat_minor": 1
}